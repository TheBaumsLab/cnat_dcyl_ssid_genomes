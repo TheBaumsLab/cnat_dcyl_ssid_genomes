{
 "cells": [
  {
   "cell_type": "markdown",
   "id": "1c7c8935",
   "metadata": {},
   "source": [
    "First we'll begin by extracting all mitochondrial sequences and separating them from the nuclear assembly using MitoFinder. This will also generate the mitochondrial annotation at the same time:"
   ]
  },
  {
   "cell_type": "code",
   "execution_count": 5,
   "id": "f65e993e",
   "metadata": {},
   "outputs": [
    {
     "name": "stdout",
     "output_type": "stream",
     "text": [
      "ERROR: This cross-compiler package contains no program /storage/work/nsl5160/miniconda3/envs/ipyrad/bin/x86_64-conda_cos6-linux-gnu-cc\n",
      "ERROR: activate-gcc_linux-64.sh failed, see above for details\n"
     ]
    }
   ],
   "source": [
    "%%bash\n",
    "source ~/.bashrc\n",
    "conda activate ipyrad\n",
    "taxa=Scleractinia\n",
    "esearch -db nuccore -query \"\\\"mitochondrion\\\"[All Fields] AND (\\\"${taxa}\\\"[Organism]) AND (refseq[filter] AND mitochondrion[filter] AND (\\\"6000\\\"[SLEN] : \\\"30000\\\"[SLEN]))\" \\\n",
    "    | efetch -format gbwithparts \\\n",
    "    > /storage/group/ibb3/default/acer_cnat_dcyl_ssid_assembly/reference.gb"
   ]
  },
  {
   "cell_type": "code",
   "execution_count": null,
   "id": "54a48ef2",
   "metadata": {},
   "outputs": [],
   "source": [
    "%%bash\n",
    "source ~/.bashrc\n",
    "conda activate mitofinder\n",
    "for i in cnat dcyl ssid; do\n",
    "    cd /storage/group/ibb3/default/acer_cnat_dcyl_ssid_assembly/funannotate_annotation\n",
    "    mitofinder \\\n",
    "        -j ${i}_mitofinder -a /storage/group/ibb3/default/acer_cnat_dcyl_ssid_assembly/*_assembly/${i}*/${i}_draft.fa -t trnascan \\\n",
    "        -r /storage/group/ibb3/default/acer_cnat_dcyl_ssid_assembly/reference.gb -o 5\n",
    "done"
   ]
  },
  {
   "cell_type": "code",
   "execution_count": null,
   "id": "8c3d89f1",
   "metadata": {},
   "outputs": [],
   "source": [
    "%%bash\n",
    "source ~/.bashrc\n",
    "for i in cnat dcyl ssid; do\n",
    "    cd /storage/group/ibb3/default/acer_cnat_dcyl_ssid_assembly/funannotate_annotation/${i}_mitofinder\n",
    "    for j in $( ls ./${i}_mitofinder_MitoFinder_trnascan_Final_Results/${i}_mitofinder_mtDNA_contig.fasta | grep -v \"genes\" ); do\n",
    "        grep \"^>\" ${j} | sed \"s/>//g\" >> ./${i}_mito_contigs.txt\n",
    "    done\n",
    "done"
   ]
  },
  {
   "cell_type": "code",
   "execution_count": null,
   "id": "09ef1a7e",
   "metadata": {},
   "outputs": [],
   "source": [
    "%%bash\n",
    "source ~/.bashrc\n",
    "conda activate assembly\n",
    "for i in cnat dcyl ssid; do\n",
    "    cd /storage/group/ibb3/default/acer_cnat_dcyl_ssid_assembly/funannotate_annotation/\n",
    "    seqkit grep -vf ./${i}_mitofinder/${i}_mito_contigs.txt /storage/group/ibb3/default/acer_cnat_dcyl_ssid_assembly/*_assembly/${i}*/${i}_draft.fa \\\n",
    "        > ./${i}_draft_no_mito.fa\n",
    "done"
   ]
  },
  {
   "cell_type": "markdown",
   "id": "524f7d56",
   "metadata": {},
   "source": [
    "MitoFinder contigs are not circularized so we want to assemble the mitochondria using a plasmid-specific assembler. Here we'll use MitoHifi:"
   ]
  },
  {
   "cell_type": "code",
   "execution_count": 28,
   "id": "b743f402",
   "metadata": {},
   "outputs": [
    {
     "name": "stdout",
     "output_type": "stream",
     "text": [
      "ERROR: This cross-compiler package contains no program /storage/work/nsl5160/miniconda3/envs/ipyrad/bin/x86_64-conda_cos6-linux-gnu-cc\n",
      "ERROR: activate-gcc_linux-64.sh failed, see above for details\n"
     ]
    }
   ],
   "source": [
    "%%bash\n",
    "source ~/.bashrc\n",
    "conda activate ipyrad\n",
    "export PATH=/storage/work/nsl5160/miniconda3/envs/ipyrad/bin/:$PATH\n",
    "\n",
    "esearch -db nuccore -query \"\\\"mitochondrion\\\"[All Fields] AND DQ643832 AND mitochondrion[filter] AND (\\\"6000\\\"[SLEN] : \\\"30000\\\"[SLEN]))\" \\\n",
    "    | efetch -format gbwithparts \\\n",
    "    > /storage/group/ibb3/default/acer_cnat_dcyl_ssid_assembly/astrangia.gb"
   ]
  },
  {
   "cell_type": "code",
   "execution_count": 29,
   "id": "367af8a4",
   "metadata": {},
   "outputs": [
    {
     "name": "stdout",
     "output_type": "stream",
     "text": [
      "ERROR: This cross-compiler package contains no program /storage/work/nsl5160/miniconda3/envs/ipyrad/bin/x86_64-conda_cos6-linux-gnu-cc\n",
      "ERROR: activate-gcc_linux-64.sh failed, see above for details\n"
     ]
    }
   ],
   "source": [
    "%%bash\n",
    "source ~/.bashrc\n",
    "conda activate ipyrad\n",
    "export PATH=/storage/work/nsl5160/miniconda3/envs/ipyrad/bin/:$PATH\n",
    "\n",
    "esearch -db nuccore -query \"\\\"mitochondrion\\\"[All Fields] AND DQ643832 AND mitochondrion[filter] AND (\\\"6000\\\"[SLEN] : \\\"30000\\\"[SLEN]))\" \\\n",
    "    | efetch -format fasta \\\n",
    "    > /storage/group/ibb3/default/acer_cnat_dcyl_ssid_assembly/astrangia.fasta"
   ]
  },
  {
   "cell_type": "code",
   "execution_count": 30,
   "id": "a307f417",
   "metadata": {},
   "outputs": [
    {
     "name": "stdout",
     "output_type": "stream",
     "text": [
      "ERROR: This cross-compiler package contains no program /storage/work/nsl5160/miniconda3/envs/ipyrad/bin/x86_64-conda_cos6-linux-gnu-cc\n",
      "ERROR: activate-gcc_linux-64.sh failed, see above for details\n"
     ]
    }
   ],
   "source": [
    "%%bash\n",
    "source ~/.bashrc\n",
    "conda activate ipyrad\n",
    "export PATH=/storage/work/nsl5160/miniconda3/envs/ipyrad/bin/:$PATH\n",
    "\n",
    "esearch -db nuccore -query \"\\\"mitochondrion\\\"[All Fields] AND NC_008162 AND mitochondrion[filter] AND (\\\"6000\\\"[SLEN] : \\\"30000\\\"[SLEN]))\" \\\n",
    "    | efetch -format gbwithparts \\\n",
    "    > /storage/group/ibb3/default/acer_cnat_dcyl_ssid_assembly/colpophyllia.gb"
   ]
  },
  {
   "cell_type": "code",
   "execution_count": 34,
   "id": "d00dad72",
   "metadata": {},
   "outputs": [
    {
     "name": "stdout",
     "output_type": "stream",
     "text": [
      "ERROR: This cross-compiler package contains no program /storage/work/nsl5160/miniconda3/envs/ipyrad/bin/x86_64-conda_cos6-linux-gnu-cc\n",
      "ERROR: activate-gcc_linux-64.sh failed, see above for details\n"
     ]
    }
   ],
   "source": [
    "%%bash\n",
    "source ~/.bashrc\n",
    "conda activate ipyrad\n",
    "export PATH=/storage/work/nsl5160/miniconda3/envs/ipyrad/bin/:$PATH\n",
    "\n",
    "esearch -db nuccore -query \"\\\"mitochondrion\\\"[All Fields] AND NC_008162 AND mitochondrion[filter] AND (\\\"6000\\\"[SLEN] : \\\"30000\\\"[SLEN]))\" \\\n",
    "    | efetch -format fasta \\\n",
    "    > /storage/group/ibb3/default/acer_cnat_dcyl_ssid_assembly/colpophyllia.fasta"
   ]
  },
  {
   "cell_type": "code",
   "execution_count": 32,
   "id": "94a832d6",
   "metadata": {},
   "outputs": [
    {
     "name": "stdout",
     "output_type": "stream",
     "text": [
      "ERROR: This cross-compiler package contains no program /storage/work/nsl5160/miniconda3/envs/ipyrad/bin/x86_64-conda_cos6-linux-gnu-cc\n",
      "ERROR: activate-gcc_linux-64.sh failed, see above for details\n"
     ]
    }
   ],
   "source": [
    "%%bash\n",
    "source ~/.bashrc\n",
    "conda activate ipyrad\n",
    "export PATH=/storage/work/nsl5160/miniconda3/envs/ipyrad/bin/:$PATH\n",
    "\n",
    "esearch -db nuccore -query \"\\\"mitochondrion\\\"[All Fields] AND NC_008167 AND mitochondrion[filter] AND (\\\"6000\\\"[SLEN] : \\\"30000\\\"[SLEN]))\" \\\n",
    "    | efetch -format gbwithparts \\\n",
    "    > /storage/group/ibb3/default/acer_cnat_dcyl_ssid_assembly/siderastrea.gb"
   ]
  },
  {
   "cell_type": "code",
   "execution_count": 33,
   "id": "42d9db52",
   "metadata": {},
   "outputs": [
    {
     "name": "stdout",
     "output_type": "stream",
     "text": [
      "ERROR: This cross-compiler package contains no program /storage/work/nsl5160/miniconda3/envs/ipyrad/bin/x86_64-conda_cos6-linux-gnu-cc\n",
      "ERROR: activate-gcc_linux-64.sh failed, see above for details\n"
     ]
    }
   ],
   "source": [
    "%%bash\n",
    "source ~/.bashrc\n",
    "conda activate ipyrad\n",
    "export PATH=/storage/work/nsl5160/miniconda3/envs/ipyrad/bin/:$PATH\n",
    "\n",
    "esearch -db nuccore -query \"\\\"mitochondrion\\\"[All Fields] AND NC_008167 AND mitochondrion[filter] AND (\\\"6000\\\"[SLEN] : \\\"30000\\\"[SLEN]))\" \\\n",
    "    | efetch -format fasta \\\n",
    "    > /storage/group/ibb3/default/acer_cnat_dcyl_ssid_assembly/siderastrea.fasta"
   ]
  },
  {
   "cell_type": "code",
   "execution_count": 41,
   "id": "c86d091a",
   "metadata": {},
   "outputs": [
    {
     "name": "stderr",
     "output_type": "stream",
     "text": [
      "sbatch: slurm_job_submit: Set account to: open default\n",
      "sbatch: slurm_job_submit: Set partition to: open\n",
      "sbatch: slurm_job_submit: User default account open\n"
     ]
    },
    {
     "name": "stdout",
     "output_type": "stream",
     "text": [
      "Submitted batch job 334704\n"
     ]
    },
    {
     "name": "stderr",
     "output_type": "stream",
     "text": [
      "sbatch: slurm_job_submit: Set account to: open default\n",
      "sbatch: slurm_job_submit: Set partition to: open\n",
      "sbatch: slurm_job_submit: User default account open\n"
     ]
    },
    {
     "name": "stdout",
     "output_type": "stream",
     "text": [
      "Submitted batch job 334705\n"
     ]
    },
    {
     "name": "stderr",
     "output_type": "stream",
     "text": [
      "sbatch: slurm_job_submit: Set account to: open default\n",
      "sbatch: slurm_job_submit: Set partition to: open\n",
      "sbatch: slurm_job_submit: User default account open\n"
     ]
    },
    {
     "name": "stdout",
     "output_type": "stream",
     "text": [
      "Submitted batch job 334706\n",
      "#!/bin/bash\n",
      "#SBATCH --nodes=1\n",
      "#SBATCH --ntasks=20\n",
      "#SBATCH --mem=160GB\n",
      "#SBATCH --time=48:00:00\n",
      "#SBATCH --job-name=mitohifi\n",
      "\n",
      "cd ~\n",
      "source ~/.bashrc\n",
      "conda activate assembly\n",
      "export PATH=/storage/work/nsl5160/miniconda3/envs/assembly/bin/:$PATH\n",
      "\n",
      "cd /storage/group/ibb3/default/acer_cnat_dcyl_ssid_assembly/funannotate_annotation/\n",
      "mkdir -p ./ssid_mitohifi\n",
      "cd ./ssid_mitohifi\n",
      "seqtk seq -A /storage/group/ibb3/default/acer_cnat_dcyl_ssid_assembly/raw/r64404e_20220930_165715/bc2002--bc2002/m64404e_220930_172413.hifi_reads.bc2002--bc2002.fastq.gz \\\n",
      "    > lib1.fasta\n",
      "seqtk seq -A /storage/group/ibb3/default/acer_cnat_dcyl_ssid_assembly/raw/r64404e_20221003_161843/bc2002--bc2002/m64404e_221003_164121.hifi_reads.bc2002--bc2002.fastq.gz \\\n",
      "    > lib2.fasta\n",
      "seqtk seq -A /storage/group/ibb3/default/acer_cnat_dcyl_ssid_assembly/raw/r64404e_20221026_162334/bc2005--bc2005/m64404e_221026_163958.hifi_reads.bc2005--bc2005.fastq.gz \\\n",
      "    > lib3.fasta\n",
      "\n",
      "conda activate mitohifi_env\n",
      "export PATH=/storage/work/nsl5160/miniconda3/envs/mitohifi_env/bin/:$PATH\n",
      "export PATH=/storage/group/ibb3/default/acer_cnat_dcyl_ssid_assembly/MitoFinder:$PATH\n",
      "\n",
      "#python /storage/group/ibb3/default/acer_cnat_dcyl_ssid_assembly/MitoHiFi/mitohifi.py \\\n",
      "singularity exec docker://biocontainers/mitohifi:2.2_cv1 mitohifi.py \\\n",
      "    -r \"lib1.fasta lib2.fasta lib3.fasta\" \\\n",
      "    -a animal -t 20 -o 5 \\\n",
      "    -g /storage/group/ibb3/default/acer_cnat_dcyl_ssid_assembly/siderastrea.gb \\\n",
      "    -f /storage/group/ibb3/default/acer_cnat_dcyl_ssid_assembly/siderastrea.fasta\n"
     ]
    }
   ],
   "source": [
    "%%bash\n",
    "cd /storage/group/ibb3/default/acer_cnat_dcyl_ssid_assembly/\n",
    "for i in cnat dcyl ssid; do\n",
    "    if [ \"${i}\" == \"cnat\" ]; then\n",
    "        cat mitohifi.sh \\\n",
    "            | sed \"s:tmpspp_lib1:/storage/group/ibb3/default/acer_cnat_dcyl_ssid_assembly/raw/r64404e_20220930_165715/bc2003--bc2003/m64404e_220930_172413.hifi_reads.bc2003--bc2003.fastq.gz:g\" \\\n",
    "            | sed \"s:tmpspp_lib2:/storage/group/ibb3/default/acer_cnat_dcyl_ssid_assembly/raw/r64404e_20221003_161843/bc2003--bc2003/m64404e_221003_164121.hifi_reads.bc2003--bc2003.fastq.gz:g\" \\\n",
    "            | sed \"s:tmpspp_lib3:/storage/group/ibb3/default/acer_cnat_dcyl_ssid_assembly/raw/r64404e_20221026_162334/bc2006--bc2006/m64404e_221026_163958.hifi_reads.bc2006--bc2006.fastq.gz:g\" \\\n",
    "            | sed \"s/tmpspp/${i}/g\" \\\n",
    "            | sed \"s/close_reference/colpophyllia/g\" > ./tmp.sh\n",
    "        sbatch ./tmp.sh\n",
    "    elif [ \"${i}\" == \"dcyl\" ]; then\n",
    "        cat mitohifi.sh \\\n",
    "            | sed \"s:tmpspp_lib1:/storage/group/ibb3/default/acer_cnat_dcyl_ssid_assembly/raw/r64404e_20220930_165715/bc2001--bc2001/m64404e_220930_172413.hifi_reads.bc2001--bc2001.fastq.gz:g\" \\\n",
    "            | sed \"s:tmpspp_lib2:/storage/group/ibb3/default/acer_cnat_dcyl_ssid_assembly/raw/r64404e_20221003_161843/bc2001--bc2001/m64404e_221003_164121.hifi_reads.bc2001--bc2001.fastq.gz:g\" \\\n",
    "            | sed \"s:tmpspp_lib3:/storage/group/ibb3/default/acer_cnat_dcyl_ssid_assembly/raw/r64404e_20221026_162334/bc2004--bc2004/m64404e_221026_163958.hifi_reads.bc2004--bc2004.fastq.gz:g\" \\\n",
    "            | sed \"s/tmpspp/${i}/g\" \\\n",
    "            | sed \"s/close_reference/astrangia/g\" > ./tmp.sh\n",
    "        sbatch ./tmp.sh\n",
    "    elif [ \"${i}\" == \"ssid\" ]; then\n",
    "        cat mitohifi.sh \\\n",
    "            | sed \"s:tmpspp_lib1:/storage/group/ibb3/default/acer_cnat_dcyl_ssid_assembly/raw/r64404e_20220930_165715/bc2002--bc2002/m64404e_220930_172413.hifi_reads.bc2002--bc2002.fastq.gz:g\" \\\n",
    "            | sed \"s:tmpspp_lib2:/storage/group/ibb3/default/acer_cnat_dcyl_ssid_assembly/raw/r64404e_20221003_161843/bc2002--bc2002/m64404e_221003_164121.hifi_reads.bc2002--bc2002.fastq.gz:g\" \\\n",
    "            | sed \"s:tmpspp_lib3:/storage/group/ibb3/default/acer_cnat_dcyl_ssid_assembly/raw/r64404e_20221026_162334/bc2005--bc2005/m64404e_221026_163958.hifi_reads.bc2005--bc2005.fastq.gz:g\" \\\n",
    "            | sed \"s/tmpspp/${i}/g\" \\\n",
    "            | sed \"s/close_reference/siderastrea/g\" > ./tmp.sh\n",
    "        sbatch ./tmp.sh\n",
    "    fi\n",
    "done\n",
    "cat ./tmp.sh"
   ]
  },
  {
   "cell_type": "code",
   "execution_count": null,
   "id": "4f19193f",
   "metadata": {},
   "outputs": [],
   "source": [
    "%%bash\n",
    "source ~/.bashrc\n",
    "conda activate funannotate\n",
    "for i in cnat dcyl ssid; do\n",
    "    cd /storage/group/ibb3/default/acer_cnat_dcyl_ssid_assembly/funannotate_annotation\n",
    "    funannotate sort -i ${i}_draft_no_mito.fa -b contig --minlen 500 -o ${i}_draft_no_mito_sorted.fa\n",
    "donev"
   ]
  },
  {
   "cell_type": "code",
   "execution_count": 1,
   "id": "9d8ac19b",
   "metadata": {},
   "outputs": [
    {
     "name": "stdout",
     "output_type": "stream",
     "text": [
      "cnat\n",
      "Main genome scaffold sequence total:\t398.943 MB\n",
      "Main genome scaffold N/L50:         \t26/4.902 MB\n",
      "dcyl\n",
      "Main genome scaffold sequence total:\t526.444 MB\n",
      "Main genome scaffold N/L50:         \t35/4.647 MB\n",
      "ssid\n",
      "Main genome scaffold sequence total:\t822.514 MB\n",
      "Main genome scaffold N/L50:         \t30/9.1 MB\n"
     ]
    }
   ],
   "source": [
    "%%bash\n",
    "source ~/.bashrc\n",
    "conda activate assembly\n",
    "for i in cnat dcyl ssid; do\n",
    "    cd /storage/group/ibb3/default/acer_cnat_dcyl_ssid_assembly/funannotate_annotation\n",
    "    echo $i ; stats.sh -Xmx4G ${i}_draft_no_mito_sorted.fa | grep -e \"Main genome scaffold N\\/L50\" -e \"Main genome scaffold sequence\" \n",
    "done"
   ]
  },
  {
   "cell_type": "markdown",
   "id": "bccde9fc",
   "metadata": {},
   "source": [
    "RepeatMasking the final draft, taking into account repeat peptides, following the recommendations of the Blaxter Lab: https://blaxter-lab-documentation.readthedocs.io/en/latest/filter-repeatmodeler-library.html. For Ssid, we used a combined reference of Acropora millepora, Montipora capitata, and Galaxea fascicularis (Astrocoeiina - Galaxea is not traditionally found in this group but there is growing evidence that it is: https://journals.plos.org/plosone/article?id=10.1371/journal.pone.0011490 and https://www.sciencedirect.com/science/article/abs/pii/S1874778719301540). For Cnat and Dcyl, we use a combined reference of Orbicella faveolata and Fungia fungites. What references you use doesn't _really_ matter here as long as it's a coral but using Ofav and Ffun for Cnat and Dcyl makes more sense, phylogenetically speaking:"
   ]
  },
  {
   "cell_type": "code",
   "execution_count": 18,
   "id": "31d0bf1b",
   "metadata": {
    "scrolled": true
   },
   "outputs": [
    {
     "name": "stderr",
     "output_type": "stream",
     "text": [
      "sbatch: slurm_job_submit: Set account to: open default\n",
      "sbatch: slurm_job_submit: Set partition to: open\n",
      "sbatch: slurm_job_submit: User default account open\n"
     ]
    },
    {
     "name": "stdout",
     "output_type": "stream",
     "text": [
      "Submitted batch job 115187\n"
     ]
    },
    {
     "name": "stderr",
     "output_type": "stream",
     "text": [
      "sbatch: slurm_job_submit: Set account to: open default\n",
      "sbatch: slurm_job_submit: Set partition to: open\n",
      "sbatch: slurm_job_submit: User default account open\n"
     ]
    },
    {
     "name": "stdout",
     "output_type": "stream",
     "text": [
      "Submitted batch job 115188\n"
     ]
    },
    {
     "name": "stderr",
     "output_type": "stream",
     "text": [
      "sbatch: slurm_job_submit: Set account to: open default\n",
      "sbatch: slurm_job_submit: Set partition to: open\n",
      "sbatch: slurm_job_submit: User default account open\n"
     ]
    },
    {
     "name": "stdout",
     "output_type": "stream",
     "text": [
      "Submitted batch job 115189\n"
     ]
    },
    {
     "name": "stderr",
     "output_type": "stream",
     "text": [
      "sbatch: slurm_job_submit: Set account to: open default\n",
      "sbatch: slurm_job_submit: Set partition to: open\n",
      "sbatch: slurm_job_submit: User default account open\n"
     ]
    },
    {
     "name": "stdout",
     "output_type": "stream",
     "text": [
      "Submitted batch job 115190\n",
      "#!/bin/bash\n",
      "#SBATCH --nodes=1\n",
      "#SBATCH --ntasks=20\n",
      "#SBATCH --mem=300GB\n",
      "#SBATCH --time=48:00:00\n",
      "#SBATCH --job-name=repeatmasker\n",
      "\n",
      "cd ~\n",
      "source ~/.bashrc\n",
      "conda activate repeatmasker\n",
      "cd /storage/group/ibb3/default/acer_cnat_dcyl_ssid_assembly/pacbio_assembly/ssid_hifiasm_meta_2\n",
      "\n",
      "#Make protein blastable database\n",
      "makeblastdb -in ../../references/amil_mcap_gfas.protein.faa -dbtype prot\n",
      "\n",
      "#blast the proteins to the RepeatMasker Repeat Protein Library\n",
      "blastp \\\n",
      "\t-query ../../references/amil_mcap_gfas.protein.faa \\\n",
      "\t-db ~/work/miniconda3/envs/repeatmasker/share/RepeatMasker/Libraries/RepeatPeps.lib \\\n",
      "\t-evalue 1e-5 -culling_limit 2 -num_threads 20 -max_target_seqs 5 \\\n",
      "\t-outfmt '6 qseqid sseqid pident evalue bitscore staxids stitle' -out amil_mcap_gfas.br\n",
      "\n",
      "#remove the predicted TEs found by the blast above from the Adig transcripts \n",
      "perl /storage/group/ibb3/default/dendrogyra_assembly/final_dendrogyra_assembly/fastaqual_select.pl \\\n",
      "\t-f ../../references/amil_mcap_gfas.transcripts.fna \\\n",
      "\t-e <(awk '{print $1}' amil_mcap_gfas.br | sort | uniq) > amil_mcap_gfas.no_tes.fa\n",
      "\n",
      "#make the no TE Adig transcript file into blast database\n",
      "makeblastdb -in amil_mcap_gfas.no_tes.fa -dbtype nucl\n",
      "\n",
      "#Blast the output of RepeatModeler against the no TE Adig transcripts to find gene fragments\n",
      "blastn -task megablast \\\n",
      "       -query ./blobtools_out/RM*/consensi.fa.classified \\\n",
      "       -db amil_mcap_gfas.no_tes.fa \\\n",
      "       -outfmt '6 qseqid sseqid pident evalue bitscore' \\\n",
      "       -max_target_seqs 25 \\\n",
      "       -culling_limit 2 \\\n",
      "       -num_threads 20 \\\n",
      "       -evalue 1e-10 \\\n",
      "       -out ssid.vs.amil_mcap_gfas.no_tes.25cul2.1e10.megablast.out\n",
      "\n",
      "\n",
      "#Filtered species-specific RepeatModeler library\n",
      "perl /storage/group/ibb3/default/dendrogyra_assembly/final_dendrogyra_assembly/fastaqual_select.pl \\\n",
      "\t-f ./blobtools_out/RM*/consensi.fa.classified \\\n",
      "\t-e <(awk '{print $1}' ssid.vs.amil_mcap_gfas.no_tes.25cul2.1e10.megablast.out | sort | uniq) \\\n",
      "\t> ssid.classified.filtered_for_CDS_repeats.fa\n",
      "\n",
      "conda activate assembly\n",
      "\n",
      "perl /storage/group/ibb3/default/tools/RepeatMasker/util/queryRepeatDatabase.pl -species Cnidaria \\\n",
      "\t> ./repeatmasker.cnidaria.fa\n",
      "\n",
      "cat repeatmasker.cnidaria.fa ssid.classified.filtered_for_CDS_repeats.fa \\\n",
      "\t> ssid_filtered.repeatlib.fa\n",
      "\n",
      "awk 'NF' ssid_filtered.repeatlib.fa > ssid_filtered_no_newline.repeatlib.fa\n",
      "\n",
      "cd /storage/group/ibb3/default/acer_cnat_dcyl_ssid_assembly/funannotate_annotation\n",
      "mkdir -p ./ssid_softmasked\n",
      "\n",
      "conda activate repeatmasker407\n",
      "RepeatMasker -lib /storage/group/ibb3/default/acer_cnat_dcyl_ssid_assembly/pacbio_assembly/ssid_hifiasm_meta_2/ssid_filtered_no_newline.repeatlib.fa \\\n",
      "        -engine ncbi \\\n",
      "        -parallel 20 \\\n",
      "        -gff -xsmall -s \\\n",
      "        -nolow -poly \\\n",
      "        -dir ./ssid_softmasked \\\n",
      "\tssid_draft_no_mito_sorted.fa\n"
     ]
    }
   ],
   "source": [
    "%%bash\n",
    "cd /storage/group/ibb3/default/acer_cnat_dcyl_ssid_assembly/\n",
    "for i in cnat dcyl ssid; do\n",
    "    if [ \"${i}\" == \"cnat\" ]; then\n",
    "        cat filter_and_repeatmask.sh | sed \"s/tmpspecies/${i}/g\" \\\n",
    "            | sed \"s/tmpref/ofav_ffun/g\" \\\n",
    "            | sed \"s/draft/${i}_draft_no_mito_sorted.fa/g\" \\\n",
    "            | sed \"s/RM/blobtools_out\\/RM/g\" > ./tmp.sh\n",
    "        sbatch ./tmp.sh\n",
    "    elif [ \"${i}\" == \"dcyl\" ]; then\n",
    "        cat filter_and_repeatmask.sh | sed \"s/tmpspecies/${i}/g\" \\\n",
    "            | sed \"s/tmpref/ofav_ffun/g\" \\\n",
    "            | sed \"s/draft/${i}_draft_no_mito_sorted.fa/g\" \\\n",
    "            | sed \"s/RM/blobtools_out\\/RM/g\" > ./tmp.sh\n",
    "        sbatch ./tmp.sh\n",
    "    elif [ \"${i}\" == \"ssid\" ]; then\n",
    "        cat filter_and_repeatmask.sh | sed \"s/tmpspecies/${i}/g\" \\\n",
    "            | sed \"s/tmpref/amil_mcap_gfas/g\" \\\n",
    "            | sed \"s/draft/${i}_draft_no_mito_sorted.fa/g\" \\\n",
    "            | sed \"s/RM/blobtools_out\\/RM/g\" > ./tmp.sh\n",
    "        sbatch ./tmp.sh\n",
    "    fi\n",
    "done\n",
    "cat ./tmp.sh"
   ]
  },
  {
   "cell_type": "code",
   "execution_count": 4,
   "id": "34a5ec9c",
   "metadata": {},
   "outputs": [],
   "source": [
    "%%bash\n",
    "source ~/.bashrc\n",
    "conda activate repeatmasker407\n",
    "for spp in ssid cnat dcyl; do\n",
    "    cd /storage/group/ibb3/default/acer_cnat_dcyl_ssid_assembly/funannotate_annotation/${spp}_softmasked/\n",
    "    perl /storage/group/ibb3/default/tools/RepeatMasker/util/buildSummary.pl \\\n",
    "        -useAbsoluteGenomeSize ${spp}_draft_no_mito_sorted.fa.out \\\n",
    "        | tr -s \" \" > ${spp}_draft_no_mito_sorted.fa.out.detailed\n",
    "done"
   ]
  },
  {
   "cell_type": "markdown",
   "id": "0372ab37",
   "metadata": {},
   "source": [
    "For Cnat and Ssid, we download RNAseq data from EBI. SRA dump totally messes up the headers for use with Trinity. The files we downloaded are also at in two run selector results. We generated data for Dcyl so we will use that since no data is available on SRA:"
   ]
  },
  {
   "cell_type": "code",
   "execution_count": 12,
   "id": "9f363f24",
   "metadata": {},
   "outputs": [
    {
     "name": "stdout",
     "output_type": "stream",
     "text": [
      "Run,Assay Type,AvgSpotLen,Bases,BioProject,BioSample,BioSampleModel,Bytes,Center Name,Collection_Date,Consent,DATASTORE filetype,DATASTORE provider,DATASTORE region,Experiment,geo_loc_name_country,geo_loc_name_country_continent,geo_loc_name,Instrument,Isolate,Isolation_Source,Library Name,LibraryLayout,LibrarySelection,LibrarySource,Organism,Platform,ReleaseDate,Sample Name,SRA Study,Tissue,collected_by,identified_by,Lat_Lon,BREED,Host,read_forward,read_reverse\n",
      "SRR14577699,RNA-Seq,300,5521266300,PRJNA716052,SAMN18391384,Invertebrate,2359234885,THE UNIVERSITY OF TEXAS AT ARLINGTON,2017-06,public,\"fastq,sra\",\"gs,s3\",\"s3.us-east-1,gs.US\",SRX10920799,USA,North America,\"USA: St thomas\\, Brewer's Bay\",Illumina HiSeq 4000,UVI_080,coral tissue,UVI_080,PAIRED,unspecified,METATRANSCRIPTOMIC,Colpophyllia natans,ILLUMINA,2021-08-01T00:00:00Z,CNAT_D3_UVI-080_RNA,SRP320354,coral tissue,University of Texas at Arlington - Mydlarz Lab,Dr. Marilyn Brandt,18.34 N 64.98 W,,,,\n",
      "SRR14577700,RNA-Seq,300,5331261600,PRJNA716052,SAMN18391383,Invertebrate,2255630480,THE UNIVERSITY OF TEXAS AT ARLINGTON,2017-06,public,\"sra,fastq\",\"s3,gs\",\"s3.us-east-1,gs.US\",SRX10920798,USA,North America,\"USA: St thomas\\, Brewer's Bay\",Illumina HiSeq 4000,UVI_079,coral tissue,UVI_079,PAIRED,unspecified,METATRANSCRIPTOMIC,Colpophyllia natans,ILLUMINA,2021-08-01T00:00:00Z,CNAT_C5_UVI-079_RNA,SRP320354,coral tissue,University of Texas at Arlington - Mydlarz Lab,Dr. Marilyn Brandt,18.34 N 64.98 W,,,,\n",
      "SRR14577701,RNA-Seq,300,4657456500,PRJNA716052,SAMN18391382,Invertebrate,1965462926,THE UNIVERSITY OF TEXAS AT ARLINGTON,2017-06,public,\"fastq,sra\",\"gs,s3\",\"gs.US,s3.us-east-1\",SRX10920797,USA,North America,\"USA: St thomas\\, Brewer's Bay\",Illumina HiSeq 4000,UVI_078,coral tissue,UVI_078,PAIRED,unspecified,METATRANSCRIPTOMIC,Colpophyllia natans,ILLUMINA,2021-08-01T00:00:00Z,CNAT_D2_UVI-078_RNA,SRP320354,coral tissue,University of Texas at Arlington - Mydlarz Lab,Dr. Marilyn Brandt,18.34 N 64.98 W,,,,\n",
      "SRR14577711,RNA-Seq,300,5575275900,PRJNA716052,SAMN18391381,Invertebrate,2349994454,THE UNIVERSITY OF TEXAS AT ARLINGTON,2017-06,public,\"sra,fastq\",\"s3,gs\",\"s3.us-east-1,gs.US\",SRX10920787,USA,North America,\"USA: St thomas\\, Brewer's Bay\",Illumina HiSeq 4000,UVI_077,coral tissue,UVI_077,PAIRED,unspecified,METATRANSCRIPTOMIC,Colpophyllia natans,ILLUMINA,2021-08-01T00:00:00Z,CNAT_C4_UVI-077_RNA,SRP320354,coral tissue,University of Texas at Arlington - Mydlarz Lab,Dr. Marilyn Brandt,18.34 N 64.98 W,,,,\n",
      "SRR14577722,RNA-Seq,300,4972934700,PRJNA716052,SAMN18391380,Invertebrate,2110546241,THE UNIVERSITY OF TEXAS AT ARLINGTON,2017-06,public,\"fastq,sra\",\"gs,s3\",\"gs.US,s3.us-east-1\",SRX10920776,USA,North America,\"USA: St thomas\\, Brewer's Bay\",Illumina HiSeq 4000,UVI_076,coral tissue,UVI_076,PAIRED,unspecified,METATRANSCRIPTOMIC,Colpophyllia natans,ILLUMINA,2021-08-01T00:00:00Z,CNAT_D4_UVI-076_RNA,SRP320354,coral tissue,University of Texas at Arlington - Mydlarz Lab,Dr. Marilyn Brandt,18.34 N 64.98 W,,,,\n",
      "SRR14577733,RNA-Seq,300,6110339400,PRJNA716052,SAMN18391379,Invertebrate,2515301721,THE UNIVERSITY OF TEXAS AT ARLINGTON,2017-06,public,\"fastq,sra\",\"gs,s3\",\"gs.US,s3.us-east-1\",SRX10920765,USA,North America,\"USA: St thomas\\, Brewer's Bay\",Illumina HiSeq 4000,UVI_075,coral tissue,UVI_075,PAIRED,unspecified,METATRANSCRIPTOMIC,Colpophyllia natans,ILLUMINA,2021-08-01T00:00:00Z,CNAT_C2_UVI-075_RNA,SRP320354,coral tissue,University of Texas at Arlington - Mydlarz Lab,Dr. Marilyn Brandt,18.34 N 64.98 W,,,,\n",
      "SRR14577744,RNA-Seq,300,4997716500,PRJNA716052,SAMN18391378,Invertebrate,2093236006,THE UNIVERSITY OF TEXAS AT ARLINGTON,2017-06,public,\"fastq,sra\",\"gs,s3\",\"s3.us-east-1,gs.US\",SRX10920754,USA,North America,\"USA: St thomas\\, Brewer's Bay\",Illumina HiSeq 4000,UVI_073,coral tissue,UVI_073,PAIRED,unspecified,METATRANSCRIPTOMIC,Colpophyllia natans,ILLUMINA,2021-08-01T00:00:00Z,CNAT_C1_UVI-073_RNA,SRP320354,coral tissue,University of Texas at Arlington - Mydlarz Lab,Dr. Marilyn Brandt,18.34 N 64.98 W,,,,\n",
      "SRR14577755,RNA-Seq,300,8047522500,PRJNA716052,SAMN18391377,Invertebrate,3326928658,THE UNIVERSITY OF TEXAS AT ARLINGTON,2017-06,public,\"fastq,sra\",\"gs,s3\",\"s3.us-east-1,gs.US\",SRX10920743,USA,North America,\"USA: St thomas\\, Brewer's Bay\",Illumina HiSeq 4000,UVI_072,coral tissue,UVI_072,PAIRED,unspecified,METATRANSCRIPTOMIC,Colpophyllia natans,ILLUMINA,2021-08-01T00:00:00Z,CNAT_D1_UVI-072_RNA,SRP320354,coral tissue,University of Texas at Arlington - Mydlarz Lab,Dr. Marilyn Brandt,18.34 N 64.98 W,,,,\n",
      "SRR14577756,RNA-Seq,300,6621543300,PRJNA716052,SAMN18391376,Invertebrate,2732104647,THE UNIVERSITY OF TEXAS AT ARLINGTON,2017-06,public,\"sra,fastq\",\"s3,gs\",\"s3.us-east-1,gs.US\",SRX10920742,USA,North America,\"USA: St thomas\\, Brewer's Bay\",Illumina HiSeq 4000,UVI_071,coral tissue,UVI_071,PAIRED,unspecified,METATRANSCRIPTOMIC,Colpophyllia natans,ILLUMINA,2021-08-01T00:00:00Z,CNAT_C3_UVI-071_RNA,SRP320354,coral tissue,University of Texas at Arlington - Mydlarz Lab,Dr. Marilyn Brandt,18.34 N 64.98 W,,,,\n",
      "SRR14295591,RNA-Seq,300,6973818600,PRJNA723585,SAMN18822944,Invertebrate,2935108728,UNIVERSITY OF TEXAS AT ARLINGTON,2017-06-17,public,\"sra,fastq\",\"gs,s3\",\"s3.us-east-1,gs.US\",SRX10653490,USA,North America,USA: Saint Thomas,HiSeq X Five,2,Ocean,Cnat_2,PAIRED,cDNA,TRANSCRIPTOMIC,Colpophyllia natans,ILLUMINA,2021-04-21T00:00:00Z,Cnat_2,SRP315757,Whole organism,,,,NA,NA,UVI_3_1.fq.gz,UVI_3_2.fq.gz\n",
      "SRR14295592,RNA-Seq,300,7406209200,PRJNA723585,SAMN18822943,Invertebrate,3111945634,UNIVERSITY OF TEXAS AT ARLINGTON,2017-06-17,public,\"sra,fastq\",\"gs,s3\",\"gs.US,s3.us-east-1\",SRX10653489,USA,North America,USA: Saint Thomas,HiSeq X Five,1,Ocean,Cnat_1,PAIRED,cDNA,TRANSCRIPTOMIC,Colpophyllia natans,ILLUMINA,2021-04-21T00:00:00Z,Cnat_1,SRP315757,Whole organism,,,,NA,NA,UVI_1_1.fq.gz,UVI_1_2.fq.gz\n",
      "SRR14295598,RNA-Seq,300,6548658900,PRJNA723585,SAMN18822947,Invertebrate,2766412764,UNIVERSITY OF TEXAS AT ARLINGTON,2017-06-17,public,\"sra,fastq\",\"s3,gs\",\"gs.US,s3.us-east-1\",SRX10653483,USA,North America,USA: Saint Thomas,HiSeq X Five,5,Ocean,Cnat_5,PAIRED,cDNA,TRANSCRIPTOMIC,Colpophyllia natans,ILLUMINA,2021-04-21T00:00:00Z,Cnat_5,SRP315757,Whole organism,,,,NA,NA,UVI_9_1.fq.gz,UVI_9_2.fq.gz\n",
      "SRR14295599,RNA-Seq,300,7238971800,PRJNA723585,SAMN18822946,Invertebrate,3156571533,UNIVERSITY OF TEXAS AT ARLINGTON,2017-06-17,public,\"sra,fastq\",\"s3,gs\",\"gs.US,s3.us-east-1\",SRX10653482,USA,North America,USA: Saint Thomas,HiSeq X Five,4,Ocean,Cnat_4,PAIRED,cDNA,TRANSCRIPTOMIC,Colpophyllia natans,ILLUMINA,2021-04-21T00:00:00Z,Cnat_4,SRP315757,Whole organism,,,,NA,NA,UVI_7_1.fq.gz,UVI_7_2.fq.gz\n",
      "SRR14295602,RNA-Seq,300,7699264200,PRJNA723585,SAMN18822945,Invertebrate,3206348208,UNIVERSITY OF TEXAS AT ARLINGTON,2017-06-17,public,\"sra,fastq\",\"gs,s3\",\"gs.US,s3.us-east-1\",SRX10653479,USA,North America,USA: Saint Thomas,HiSeq X Five,3,Ocean,Cnat_3,PAIRED,cDNA,TRANSCRIPTOMIC,Colpophyllia natans,ILLUMINA,2021-04-21T00:00:00Z,Cnat_3,SRP315757,Whole organism,,,,NA,NA,UVI_5_1.fq.gz,UVI_5_2.fq.gz\n",
      "Run,Assay Type,AvgSpotLen,Bases,BioProject,BioSample,BioSampleModel,Bytes,Center Name,Consent,DATASTORE filetype,DATASTORE provider,DATASTORE region,Experiment,Instrument,Library Name,LibraryLayout,LibrarySelection,LibrarySource,Organism,Platform,ReleaseDate,Sample Name,SRA Study,Tissue,Collection_Date,geo_loc_name_country,geo_loc_name_country_continent,geo_loc_name,Isolate,Isolation_Source,dev_stage,collected_by,Lat_Lon,Host,BREED,BIOMATERIAL_PROVIDER,Colony_ID,coral.collection.date,Destination_code,Destination_name,Destination_type,Ecotype,env_broad_scale,ID,Illumina_seq,Origin_code,Origin_name,Origin_type,pH_Destination,Read,sampling.date.RNAlater,sex,Transplant.deployment.date,transplant.position,Treatment.Origin_Destination,Year_collected,identified_by,read_forward,read_reverse\n",
      "SRR14577702,RNA-Seq,300,7414340100,PRJNA716052,SAMN18391434,Invertebrate,2993865230,THE UNIVERSITY OF TEXAS AT ARLINGTON,public,\"fastq,sra\",\"gs,s3\",\"gs.US,s3.us-east-1\",SRX10920796,Illumina HiSeq 4000,UVI_138,PAIRED,unspecified,METATRANSCRIPTOMIC,Siderastrea siderea,ILLUMINA,2021-08-01T00:00:00Z,SSID_D5_UVI-138_RNA,SRP320354,coral tissue,2017-06,USA,North America,\"USA: St thomas\\, Brewer's Bay\",UVI_138,coral tissue,,University of Texas at Arlington - Mydlarz Lab,18.34 N 64.98 W,,,,,,,,,,,,,,,,,,,,,,,,Dr. Marilyn Brandt,,\n"
     ]
    },
    {
     "name": "stdout",
     "output_type": "stream",
     "text": [
      "SRR14577703,RNA-Seq,300,6459067200,PRJNA716052,SAMN18391433,Invertebrate,2634548085,THE UNIVERSITY OF TEXAS AT ARLINGTON,public,\"sra,fastq\",\"s3,gs\",\"s3.us-east-1,gs.US\",SRX10920795,Illumina HiSeq 4000,UVI_137,PAIRED,unspecified,METATRANSCRIPTOMIC,Siderastrea siderea,ILLUMINA,2021-08-01T00:00:00Z,SSID_C1_UVI-137_RNA,SRP320354,coral tissue,2017-06,USA,North America,\"USA: St thomas\\, Brewer's Bay\",UVI_137,coral tissue,,University of Texas at Arlington - Mydlarz Lab,18.34 N 64.98 W,,,,,,,,,,,,,,,,,,,,,,,,Dr. Marilyn Brandt,,\n",
      "SRR14577704,RNA-Seq,300,5875051800,PRJNA716052,SAMN18391432,Invertebrate,2364053047,THE UNIVERSITY OF TEXAS AT ARLINGTON,public,\"sra,fastq\",\"gs,s3\",\"s3.us-east-1,gs.US\",SRX10920794,Illumina HiSeq 4000,UVI_136,PAIRED,unspecified,METATRANSCRIPTOMIC,Siderastrea siderea,ILLUMINA,2021-08-01T00:00:00Z,SSID_D4_UVI-136_RNA,SRP320354,coral tissue,2017-06,USA,North America,\"USA: St thomas\\, Brewer's Bay\",UVI_136,coral tissue,,University of Texas at Arlington - Mydlarz Lab,18.34 N 64.98 W,,,,,,,,,,,,,,,,,,,,,,,,Dr. Marilyn Brandt,,\n",
      "SRR14577705,RNA-Seq,300,6464233800,PRJNA716052,SAMN18391431,Invertebrate,2631783424,THE UNIVERSITY OF TEXAS AT ARLINGTON,public,\"sra,fastq\",\"gs,s3\",\"s3.us-east-1,gs.US\",SRX10920793,Illumina HiSeq 4000,UVI_135,PAIRED,unspecified,METATRANSCRIPTOMIC,Siderastrea siderea,ILLUMINA,2021-08-01T00:00:00Z,SSID_C2_UVI-135_RNA,SRP320354,coral tissue,2017-06,USA,North America,\"USA: St thomas\\, Brewer's Bay\",UVI_135,coral tissue,,University of Texas at Arlington - Mydlarz Lab,18.34 N 64.98 W,,,,,,,,,,,,,,,,,,,,,,,,Dr. Marilyn Brandt,,\n",
      "SRR14577706,RNA-Seq,300,7026348900,PRJNA716052,SAMN18391430,Invertebrate,2844594578,THE UNIVERSITY OF TEXAS AT ARLINGTON,public,\"sra,fastq\",\"gs,s3\",\"gs.US,s3.us-east-1\",SRX10920792,Illumina HiSeq 4000,UVI_134,PAIRED,unspecified,METATRANSCRIPTOMIC,Siderastrea siderea,ILLUMINA,2021-08-01T00:00:00Z,SSID_D3_UVI-134_RNA,SRP320354,coral tissue,2017-06,USA,North America,\"USA: St thomas\\, Brewer's Bay\",UVI_134,coral tissue,,University of Texas at Arlington - Mydlarz Lab,18.34 N 64.98 W,,,,,,,,,,,,,,,,,,,,,,,,Dr. Marilyn Brandt,,\n",
      "SRR14577707,RNA-Seq,300,5965790100,PRJNA716052,SAMN18391429,Invertebrate,2434847484,THE UNIVERSITY OF TEXAS AT ARLINGTON,public,\"fastq,sra\",\"gs,s3\",\"gs.US,s3.us-east-1\",SRX10920791,Illumina HiSeq 4000,UVI_133,PAIRED,unspecified,METATRANSCRIPTOMIC,Siderastrea siderea,ILLUMINA,2021-08-01T00:00:00Z,SSID_C3_UVI-133_RNA,SRP320354,coral tissue,2017-06,USA,North America,\"USA: St thomas\\, Brewer's Bay\",UVI_133,coral tissue,,University of Texas at Arlington - Mydlarz Lab,18.34 N 64.98 W,,,,,,,,,,,,,,,,,,,,,,,,Dr. Marilyn Brandt,,\n",
      "SRR14577708,RNA-Seq,300,7806279300,PRJNA716052,SAMN18391428,Invertebrate,3222692896,THE UNIVERSITY OF TEXAS AT ARLINGTON,public,\"fastq,sra\",\"gs,s3\",\"gs.US,s3.us-east-1\",SRX10920790,Illumina HiSeq 4000,UVI_132,PAIRED,unspecified,METATRANSCRIPTOMIC,Siderastrea siderea,ILLUMINA,2021-08-01T00:00:00Z,SSID_D2_UVI-132_RNA,SRP320354,coral tissue,2017-06,USA,North America,\"USA: St thomas\\, Brewer's Bay\",UVI_132,coral tissue,,University of Texas at Arlington - Mydlarz Lab,18.34 N 64.98 W,,,,,,,,,,,,,,,,,,,,,,,,Dr. Marilyn Brandt,,\n",
      "SRR14577709,RNA-Seq,300,7075873500,PRJNA716052,SAMN18391427,Invertebrate,2914265253,THE UNIVERSITY OF TEXAS AT ARLINGTON,public,\"sra,fastq\",\"s3,gs\",\"s3.us-east-1,gs.US\",SRX10920789,Illumina HiSeq 4000,UVI_131,PAIRED,unspecified,METATRANSCRIPTOMIC,Siderastrea siderea,ILLUMINA,2021-08-01T00:00:00Z,SSID_C4_UVI-131_RNA,SRP320354,coral tissue,2017-06,USA,North America,\"USA: St thomas\\, Brewer's Bay\",UVI_131,coral tissue,,University of Texas at Arlington - Mydlarz Lab,18.34 N 64.98 W,,,,,,,,,,,,,,,,,,,,,,,,Dr. Marilyn Brandt,,\n",
      "SRR14577710,RNA-Seq,300,7210988700,PRJNA716052,SAMN18391426,Invertebrate,2902157344,THE UNIVERSITY OF TEXAS AT ARLINGTON,public,\"sra,fastq\",\"gs,s3\",\"gs.US,s3.us-east-1\",SRX10920788,Illumina HiSeq 4000,UVI_129,PAIRED,unspecified,METATRANSCRIPTOMIC,Siderastrea siderea,ILLUMINA,2021-08-01T00:00:00Z,SSID_C5_UVI-129_RNA,SRP320354,coral tissue,2017-06,USA,North America,\"USA: St thomas\\, Brewer's Bay\",UVI_129,coral tissue,,University of Texas at Arlington - Mydlarz Lab,18.34 N 64.98 W,,,,,,,,,,,,,,,,,,,,,,,,Dr. Marilyn Brandt,,\n",
      "SRR3111799,RNA-Seq,200,10937090800,PRJNA307543,SAMN04382606,Model organism or animal,7014992882,UNIVERSITY OF TEXAS AT AUSTIN,public,\"fastq,sra\",s3,s3.us-east-1,SRX1539992,Illumina HiSeq 2000,4382606,PAIRED,RANDOM,TRANSCRIPTOMIC,Siderastrea siderea,ILLUMINA,2016-01-25T00:00:00Z,T12_NS_T32,SRP068731,holobiont,,,,,,,adult,,,,,,,,,,,nearshore,,,,,,,,,,not determined,,,,,,,\n",
      "SRR3111800,RNA-Seq,200,11336494000,PRJNA307543,SAMN04382605,Model organism or animal,7337399699,UNIVERSITY OF TEXAS AT AUSTIN,public,\"fastq,sra\",s3,s3.us-east-1,SRX1539993,Illumina HiSeq 2000,4382605,PAIRED,RANDOM,TRANSCRIPTOMIC,Siderastrea siderea,ILLUMINA,2016-01-25T00:00:00Z,T11_NS_Control,SRP068731,holobiont,,,,,,,adult,,,,,,,,,,,nearshore,,,,,,,,,,not determined,,,,,,,\n",
      "SRR3111801,RNA-Seq,200,19998296600,PRJNA307543,SAMN04382604,Model organism or animal,12886452660,UNIVERSITY OF TEXAS AT AUSTIN,public,\"fastq,sra\",s3,s3.us-east-1,SRX1539994,Illumina HiSeq 2000,4382604,PAIRED,RANDOM,TRANSCRIPTOMIC,Siderastrea siderea,ILLUMINA,2016-01-24T00:00:00Z,T10_NS_T25,SRP068731,holobiont,,,,,,,adult,,,,,,,,,,,nearshore,,,,,,,,,,not determined,,,,,,,\n",
      "SRR3111802,RNA-Seq,200,9996575600,PRJNA307543,SAMN04382603,Model organism or animal,6401891771,UNIVERSITY OF TEXAS AT AUSTIN,public,\"sra,fastq\",s3,s3.us-east-1,SRX1539995,Illumina HiSeq 2000,4382603,PAIRED,RANDOM,TRANSCRIPTOMIC,Siderastrea siderea,ILLUMINA,2016-01-28T00:00:00Z,T9_FR_T32,SRP068731,holobiont,,,,,,,adult,,,,,,,,,,,forereef,,,,,,,,,,not determined,,,,,,,\n",
      "SRR3111803,RNA-Seq,200,12646209800,PRJNA307543,SAMN04382602,Model organism or animal,8146284413,UNIVERSITY OF TEXAS AT AUSTIN,public,\"sra,fastq\",s3,s3.us-east-1,SRX1539996,Illumina HiSeq 2000,4382602,PAIRED,RANDOM,TRANSCRIPTOMIC,Siderastrea siderea,ILLUMINA,2016-01-28T00:00:00Z,T8_FR_Control,SRP068731,holobiont,,,,,,,adult,,,,,,,,,,,forereef,,,,,,,,,,not determined,,,,,,,\n",
      "SRR3111804,RNA-Seq,100,5095161100,PRJNA307543,SAMN04382601,Model organism or animal,4187191348,UNIVERSITY OF TEXAS AT AUSTIN,public,\"fastq,sra\",s3,s3.us-east-1,SRX1539997,Illumina HiSeq 2000,4382601,PAIRED,RANDOM,TRANSCRIPTOMIC,Siderastrea siderea,ILLUMINA,2017-10-20T00:00:00Z,T7_FR_T25,SRP068731,holobiont,,,,,,,adult,,,,,,,,,,,forereef,,,,,,,,,,not determined,,,,,,,\n",
      "SRR3111805,RNA-Seq,200,13831462200,PRJNA307543,SAMN04382600,Model organism or animal,9073093771,UNIVERSITY OF TEXAS AT AUSTIN,public,\"fastq,sra\",s3,s3.us-east-1,SRX1539998,Illumina HiSeq 2000,4382600,PAIRED,RANDOM,TRANSCRIPTOMIC,Siderastrea siderea,ILLUMINA,2016-01-28T00:00:00Z,T6_NS_P2553,SRP068731,holobiont,,,,,,,adult,,,,,,,,,,,nearshore,,,,,,,,,,not determined,,,,,,,\n",
      "SRR3111806,RNA-Seq,200,9700554200,PRJNA307543,SAMN04382599,Model organism or animal,6324281538,UNIVERSITY OF TEXAS AT AUSTIN,public,\"sra,fastq\",s3,s3.us-east-1,SRX1539999,Illumina HiSeq 2000,4382599,PAIRED,RANDOM,TRANSCRIPTOMIC,Siderastrea siderea,ILLUMINA,2016-01-28T00:00:00Z,T5_NS_P604,SRP068731,holobiont,,,,,,,adult,,,,,,,,,,,nearshore,,,,,,,,,,not determined,,,,,,,\n",
      "SRR3111807,RNA-Seq,200,17665039400,PRJNA307543,SAMN04382598,Model organism or animal,11558085843,UNIVERSITY OF TEXAS AT AUSTIN,public,\"sra,fastq\",s3,s3.us-east-1,SRX1540000,Illumina HiSeq 2000,4382598,PAIRED,RANDOM,TRANSCRIPTOMIC,Siderastrea siderea,ILLUMINA,2016-01-28T00:00:00Z,T4_NS_P324,SRP068731,holobiont,,,,,,,adult,,,,,,,,,,,nearshore,,,,,,,,,,not determined,,,,,,,\n",
      "SRR3111808,RNA-Seq,200,9629022400,PRJNA307543,SAMN04382597,Model organism or animal,6329993663,UNIVERSITY OF TEXAS AT AUSTIN,public,\"fastq,sra\",s3,s3.us-east-1,SRX1540001,Illumina HiSeq 2000,4382597,PAIRED,RANDOM,TRANSCRIPTOMIC,Siderastrea siderea,ILLUMINA,2016-01-28T00:00:00Z,T3_FR_P2553,SRP068731,holobiont,,,,,,,adult,,,,,,,,,,,forereef,,,,,,,,,,not determined,,,,,,,\n",
      "SRR3111809,RNA-Seq,200,15423703200,PRJNA307543,SAMN04382596,Model organism or animal,10085560525,UNIVERSITY OF TEXAS AT AUSTIN,public,\"sra,fastq\",s3,s3.us-east-1,SRX1540002,Illumina HiSeq 2000,4382596,PAIRED,RANDOM,TRANSCRIPTOMIC,Siderastrea siderea,ILLUMINA,2016-01-25T00:00:00Z,T2_FR_P604,SRP068731,holobiont,,,,,,,adult,,,,,,,,,,,forereef,,,,,,,,,,not determined,,,,,,,\n"
     ]
    },
    {
     "name": "stdout",
     "output_type": "stream",
     "text": [
      "SRR3111810,RNA-Seq,199,12712562496,PRJNA307543,SAMN04382595,Model organism or animal,9475126025,UNIVERSITY OF TEXAS AT AUSTIN,public,\"fastq,sra\",s3,s3.us-east-1,SRX1540003,Illumina HiSeq 2000,4382595,PAIRED,RANDOM,TRANSCRIPTOMIC,Siderastrea siderea,ILLUMINA,2017-10-21T00:00:00Z,T1_FR_P324,SRP068731,holobiont,,,,,,,adult,,,,,,,,,,,forereef,,,,,,,,,,not determined,,,,,,,\n",
      "SRR14295600,RNA-Seq,300,6767854200,PRJNA723585,SAMN18822964,Invertebrate,2769699553,UNIVERSITY OF TEXAS AT ARLINGTON,public,\"fastq,sra\",\"gs,s3\",\"s3.us-east-1,gs.US\",SRX10653481,HiSeq X Five,Ssid_4,PAIRED,cDNA,TRANSCRIPTOMIC,Siderastrea siderea,ILLUMINA,2021-04-21T00:00:00Z,Ssid_4,SRP315757,Whole organism,2017-06-17,USA,North America,USA: Saint Thomas,4,Ocean,,,,NA,NA,,,,,,,,,,,,,,,,,,,,,,,UVI_67_1.fq.gz,UVI_67_2.fq.gz\n",
      "SRR14295601,RNA-Seq,300,6932813100,PRJNA723585,SAMN18822963,Invertebrate,2794418626,UNIVERSITY OF TEXAS AT ARLINGTON,public,\"fastq,sra\",\"s3,gs\",\"gs.US,s3.us-east-1\",SRX10653480,HiSeq X Five,Ssid_3,PAIRED,cDNA,TRANSCRIPTOMIC,Siderastrea siderea,ILLUMINA,2021-04-21T00:00:00Z,Ssid_3,SRP315757,Whole organism,2017-06-17,USA,North America,USA: Saint Thomas,3,Ocean,,,,NA,NA,,,,,,,,,,,,,,,,,,,,,,,UVI_65_1.fq.gz,UVI_65_2.fq.gz\n",
      "SRR14295603,RNA-Seq,300,7289401500,PRJNA723585,SAMN18822962,Invertebrate,2925070091,UNIVERSITY OF TEXAS AT ARLINGTON,public,\"sra,fastq\",\"s3,gs\",\"gs.US,s3.us-east-1\",SRX10653478,HiSeq X Five,Ssid_2,PAIRED,cDNA,TRANSCRIPTOMIC,Siderastrea siderea,ILLUMINA,2021-04-21T00:00:00Z,Ssid_2,SRP315757,Whole organism,2017-06-17,USA,North America,USA: Saint Thomas,2,Ocean,,,,NA,NA,,,,,,,,,,,,,,,,,,,,,,,UVI_63_1.fq.gz,UVI_63_2.fq.gz\n",
      "SRR14295604,RNA-Seq,300,6194834400,PRJNA723585,SAMN18822961,Invertebrate,2517519215,UNIVERSITY OF TEXAS AT ARLINGTON,public,\"sra,fastq\",\"s3,gs\",\"gs.US,s3.us-east-1\",SRX10653477,HiSeq X Five,Ssid_1,PAIRED,cDNA,TRANSCRIPTOMIC,Siderastrea siderea,ILLUMINA,2021-04-21T00:00:00Z,Ssid_1,SRP315757,Whole organism,2017-06-17,USA,North America,USA: Saint Thomas,1,Ocean,,,,NA,NA,,,,,,,,,,,,,,,,,,,,,,,UVI_61_1.fq.gz,UVI_61_2.fq.gz\n",
      "SRR12454619,RNA-Seq,300,59349812100,PRJNA635110,SAMN15812640,Invertebrate,18594154061,NOVA SOUTHEASTERN UNIVERSITY,public,\"sra,fastq\",\"gs,s3\",\"s3.us-east-1,gs.US\",SRX8949027,Illumina HiSeq 4000,SsidLib,PAIRED,cDNA,TRANSCRIPTOMIC,Siderastrea siderea,ILLUMINA,2021-09-01T00:00:00Z,Siderastrea siderea Transcriptome,SRP277390,live coral tissue/skeleton,2019-10,USA,North America,\"USA: Broward County\\, FL\",siderastrea siderea,,,,,not applicable,,,,,,,,,,,,,,,,,,,,,,,,,\n",
      "SRR20761964,RNA-Seq,300,4066989000,PRJNA865460,SAMN30113427,Invertebrate,2346861633,OLD DOMINION UNIVERSITY,public,\"fastq,sra\",\"s3,gs\",\"gs.US,s3.us-east-1\",SRX16781856,Illumina HiSeq 2500,APDB11H-A8,PAIRED,cDNA,TRANSCRIPTOMIC,Siderastrea siderea,ILLUMINA,2022-08-03T00:00:00Z,R_032A_N_Sid_yr1_R1.fastq.gz,SRP389552,Holobiont,2013-12-21,Mexico,North America,Mexico: Puerto Morelos,0472,Coral tissue,Adult,Ana Martinez,20.880 N 86.861 W,Siderastrea siderea holobiont,not applicable,\"Adina Paytan\\, Daniel Barshis\",0472,15-Dec-12,N,Ojo.Norte,ojo,,coral reef,032,150PE,R,Reef,Reef,Low,R1,2013-12-21,,18-Dec-12,N25,reef_ojo,Year1,,,\n",
      "SRR20761965,RNA-Seq,300,3946718700,PRJNA865460,SAMN30113425,Invertebrate,2142065748,OLD DOMINION UNIVERSITY,public,\"fastq,sra\",\"s3,gs\",\"gs.US,s3.us-east-1\",SRX16781855,Illumina HiSeq 2500,APDB11G-A7,PAIRED,cDNA,TRANSCRIPTOMIC,Siderastrea siderea,ILLUMINA,2022-08-03T00:00:00Z,R_022A_La_Sid_yr1_R1.fastq.gz,SRP389552,Holobiont,2013-12-21,Mexico,North America,Mexico: Puerto Morelos,0576,Coral tissue,Adult,Ana Martinez,20.880 N 86.861 W,Siderastrea siderea holobiont,not applicable,\"Adina Paytan\\, Daniel Barshis\",0576,15-Dec-12,La,Ojo.Laja,ojo,,coral reef,022,150PE,R,Reef,Reef,Low,R1,2013-12-21,,17-Dec-12,L19,reef_ojo,Year1,,,\n",
      "SRR20761966,RNA-Seq,300,4242785400,PRJNA865460,SAMN30113423,Invertebrate,2452251338,OLD DOMINION UNIVERSITY,public,\"fastq,sra\",\"gs,s3\",\"gs.US,s3.us-east-1\",SRX16781854,Illumina HiSeq 2500,APDB11F-A6,PAIRED,cDNA,TRANSCRIPTOMIC,Siderastrea siderea,ILLUMINA,2022-08-03T00:00:00Z,R_021A_C_Sid_yr1_R1.fastq.gz,SRP389552,Holobiont,2013-12-21,Mexico,North America,Mexico: Puerto Morelos,0576,Coral tissue,Adult,Ana Martinez,20.880 N 86.861 W,Siderastrea siderea holobiont,not applicable,\"Adina Paytan\\, Daniel Barshis\",0576,15-Dec-12,C,Control.Laja,control,,coral reef,021,150PE,R,Reef,Reef,High,R1,2013-12-21,,17-Dec-12,C6,reef_control,Year1,,,\n",
      "SRR20761967,RNA-Seq,300,3280289700,PRJNA865460,SAMN30113421,Invertebrate,1896858145,OLD DOMINION UNIVERSITY,public,\"fastq,sra\",\"gs,s3\",\"gs.US,s3.us-east-1\",SRX16781853,Illumina HiSeq 2500,APDB11E-A5,PAIRED,cDNA,TRANSCRIPTOMIC,Siderastrea siderea,ILLUMINA,2022-08-03T00:00:00Z,R_019A_La_Sid_yr1_R1.fastq.gz,SRP389552,Holobiont,2013-12-21,Mexico,North America,Mexico: Puerto Morelos,0647,Coral tissue,Adult,Ana Martinez,20.880 N 86.861 W,Siderastrea siderea holobiont,not applicable,\"Adina Paytan\\, Daniel Barshis\",0647,15-Dec-12,La,Ojo.Laja,ojo,,coral reef,019,150PE,R,Reef,Reef,Low,R1,2013-12-21,,17-Dec-12,L29,reef_ojo,Year1,,,\n",
      "SRR20761968,RNA-Seq,300,2846652900,PRJNA865460,SAMN30113419,Invertebrate,1647507436,OLD DOMINION UNIVERSITY,public,\"fastq,sra\",\"gs,s3\",\"s3.us-east-1,gs.US\",SRX16781852,Illumina HiSeq 2500,APDB11D-A4,PAIRED,cDNA,TRANSCRIPTOMIC,Siderastrea siderea,ILLUMINA,2022-08-03T00:00:00Z,R_017A_N_Sid_yr1_R1.fastq.gz,SRP389552,Holobiont,2013-12-21,Mexico,North America,Mexico: Puerto Morelos,0622,Coral tissue,Adult,Ana Martinez,20.880 N 86.861 W,Siderastrea siderea holobiont,not applicable,\"Adina Paytan\\, Daniel Barshis\",0622,15-Dec-12,N,Ojo.Norte,ojo,,coral reef,017,150PE,R,Reef,Reef,Low,R1,2013-12-21,,18-Dec-12,N16,reef_ojo,Year1,,,\n",
      "SRR20762002,RNA-Seq,300,5687082900,PRJNA865460,SAMN30113417,Invertebrate,3283469405,OLD DOMINION UNIVERSITY,public,\"fastq,sra\",\"gs,s3\",\"s3.us-east-1,gs.US\",SRX16781818,Illumina HiSeq 2500,APDB11C-A3,PAIRED,cDNA,TRANSCRIPTOMIC,Siderastrea siderea,ILLUMINA,2022-08-03T00:00:00Z,R_012A_C_Sid_yr1_R1.fastq.gz,SRP389552,Holobiont,2013-12-21,Mexico,North America,Mexico: Puerto Morelos,0061,Coral tissue,Adult,Ana Martinez,20.880 N 86.861 W,Siderastrea siderea holobiont,not applicable,\"Adina Paytan\\, Daniel Barshis\",0061,15-Dec-12,C,Control.Laja,control,,coral reef,012,150PE,R,Reef,Reef,High,R1,2013-12-21,,17-Dec-12,C21,reef_control,Year1,,,\n",
      "SRR20762003,RNA-Seq,300,4190301900,PRJNA865460,SAMN30113415,Invertebrate,2422771917,OLD DOMINION UNIVERSITY,public,\"fastq,sra\",\"s3,gs\",\"s3.us-east-1,gs.US\",SRX16781817,Illumina HiSeq 2500,APDB11B-A2,PAIRED,cDNA,TRANSCRIPTOMIC,Siderastrea siderea,ILLUMINA,2022-08-03T00:00:00Z,R_010A_La_Sid_yr1_R1.fastq.gz,SRP389552,Holobiont,2013-12-21,Mexico,North America,Mexico: Puerto Morelos,0689,Coral tissue,Adult,Ana Martinez,20.880 N 86.861 W,Siderastrea siderea holobiont,not applicable,\"Adina Paytan\\, Daniel Barshis\",0689,15-Dec-12,La,Ojo.Laja,ojo,,coral reef,010,150PE,R,Reef,Reef,Low,R1,2013-12-21,,17-Dec-12,L54,reef_ojo,Year1,,,\n",
      "SRR20762004,RNA-Seq,300,3145650300,PRJNA865460,SAMN30113413,Invertebrate,1838986245,OLD DOMINION UNIVERSITY,public,\"fastq,sra\",\"s3,gs\",\"gs.US,s3.us-east-1\",SRX16781816,Illumina HiSeq 2500,APDB11A-A1,PAIRED,cDNA,TRANSCRIPTOMIC,Siderastrea siderea,ILLUMINA,2022-08-03T00:00:00Z,R_005A_N_Sid_yr1_R1.fastq.gz,SRP389552,Holobiont,2013-12-21,Mexico,North America,Mexico: Puerto Morelos,0448,Coral tissue,Adult,Ana Martinez,20.880 N 86.861 W,Siderastrea siderea holobiont,not applicable,\"Adina Paytan\\, Daniel Barshis\",0448,15-Dec-12,N,Ojo.Norte,ojo,,coral reef,005,150PE,R,Reef,Reef,Low,R1,2013-12-21,,18-Dec-12,N42,reef_ojo,Year1,,,\n",
      "SRR20762005,RNA-Seq,300,4494754500,PRJNA865460,SAMN30113411,Invertebrate,2605918561,OLD DOMINION UNIVERSITY,public,\"sra,fastq\",\"gs,s3\",\"s3.us-east-1,gs.US\",SRX16781815,Illumina HiSeq 2500,APDB11I-A9,PAIRED,cDNA,TRANSCRIPTOMIC,Siderastrea siderea,ILLUMINA,2022-08-03T00:00:00Z,PC_373A_N_Sid_yr1_R1.fastq.gz,SRP389552,Holobiont,2013-12-21,Mexico,North America,Mexico: Puerto Morelos,0617,Coral tissue,Adult,Ana Martinez,20.880 N 86.861 W,Siderastrea siderea holobiont,not applicable,\"Adina Paytan\\, Daniel Barshis\",0617,14-Dec-12,N,Ojo.Norte,ojo,,coral reef,373,150PE,PC,Pargos Control,Control,Low,R1,2013-12-21,,18-Dec-12,N4,control_ojo,Year1,,,\n"
     ]
    },
    {
     "name": "stdout",
     "output_type": "stream",
     "text": [
      "SRR20762006,RNA-Seq,300,3929991900,PRJNA865460,SAMN30113409,Invertebrate,2296421938,OLD DOMINION UNIVERSITY,public,\"sra,fastq\",\"s3,gs\",\"s3.us-east-1,gs.US\",SRX16781814,Illumina HiSeq 2500,APDB11L-A12,PAIRED,cDNA,TRANSCRIPTOMIC,Siderastrea siderea,ILLUMINA,2022-08-03T00:00:00Z,NC_379A_N_Sid_yr1_R1.fastq.gz,SRP389552,Holobiont,2013-12-21,Mexico,North America,Mexico: Puerto Morelos,0090,Coral tissue,Adult,Ana Martinez,20.886 N 86.857 W,Siderastrea siderea holobiont,not applicable,\"Adina Paytan\\, Daniel Barshis\",0090,15-Dec-12,N,Ojo Norte,ojo,,coral reef,379,150PE,NC,Norte Control,control,Low,R1,2013-12-21,,18-Dec-12,N27,control-ojo,Year1,,,\n",
      "SRR20762007,RNA-Seq,300,2805511500,PRJNA865460,SAMN30113407,Invertebrate,1626142019,OLD DOMINION UNIVERSITY,public,\"sra,fastq\",\"gs,s3\",\"s3.us-east-1,gs.US\",SRX16781813,Illumina HiSeq 2500,APDB11K-A11,PAIRED,cDNA,TRANSCRIPTOMIC,Siderastrea siderea,ILLUMINA,2022-08-03T00:00:00Z,NC_378A_La_Sid_yr1_R1.fastq.gz,SRP389552,Holobiont,2013-12-21,Mexico,North America,Mexico: Puerto Morelos,0090,Coral tissue,Adult,Ana Martinez,20.886 N 86.857 W,Siderastrea siderea holobiont,not applicable,\"Adina Paytan\\, Daniel Barshis\",0090,15-Dec-12,La,Ojo Laja,ojo,,coral reef,378,150PE,NC,Norte Control,control,Low,R1,2013-12-21,,17-Dec-12,L56,control-ojo,Year1,,,\n",
      "SRR20762008,RNA-Seq,300,3002441400,PRJNA865460,SAMN30113405,Invertebrate,1767626425,OLD DOMINION UNIVERSITY,public,\"fastq,sra\",\"s3,gs\",\"gs.US,s3.us-east-1\",SRX16781812,Illumina HiSeq 2500,APDB11J-A10,PAIRED,cDNA,TRANSCRIPTOMIC,Siderastrea siderea,ILLUMINA,2022-08-03T00:00:00Z,NC_377A_C_Sid_yr1_R1.fastq.gz,SRP389552,Holobiont,2013-12-21,Mexico,North America,Mexico: Puerto Morelos,0090,Coral tissue,Adult,Ana Martinez,20.886 N 86.857 W,Siderastrea siderea holobiont,not applicable,\"Adina Paytan\\, Daniel Barshis\",0090,15-Dec-12,C,Control (Laja site),control,,coral reef,377,150PE,NC,Norte Control,control,High,R1,2013-12-21,,17-Dec-12,C23,control-control,Year1,,,\n"
     ]
    }
   ],
   "source": [
    "%%bash\n",
    "for i in cnat ssid; do\n",
    "    cat /storage/group/ibb3/default/acer_cnat_dcyl_ssid_assembly/raw/RNAseq/${i}/${i}SraRunTable.txt\n",
    "done"
   ]
  },
  {
   "cell_type": "code",
   "execution_count": 31,
   "id": "83ec9599",
   "metadata": {
    "scrolled": true
   },
   "outputs": [
    {
     "name": "stderr",
     "output_type": "stream",
     "text": [
      "sbatch: slurm_job_submit: Set account to: open default\n",
      "sbatch: slurm_job_submit: Set partition to: open\n",
      "sbatch: slurm_job_submit: User default account open\n"
     ]
    },
    {
     "name": "stdout",
     "output_type": "stream",
     "text": [
      "Submitted batch job 101960\n",
      "#!/bin/bash\n",
      "#SBATCH --nodes=1\n",
      "#SBATCH --ntasks=12\n",
      "#SBATCH --mem=64GB\n",
      "#SBATCH --time=48:00:00\n",
      "#SBATCH --job-name=blobbwa\n",
      "\n",
      "cd ~\n",
      "source ~/.bashrc\n",
      "\n",
      "mkdir -p ~/scratch/sra\n",
      "mkdir -p ~/scratch/sra/tmp\n",
      "mkdir -p ~/scratch/sra/raw\n",
      "mkdir -p ~/scratch/sra/raw/cnat\n",
      "\n",
      "cd ~/scratch/sra/raw/cnat\n",
      "for i in $( cat /storage/group/ibb3/default/acer_cnat_dcyl_ssid_assembly/raw/RNAseq/cnat/cnatfastq.txt ); do\n",
      "\taxel -n 12 -s 50242880 ${i}\n",
      "done\n"
     ]
    }
   ],
   "source": [
    "%%bash\n",
    "cd /storage/group/ibb3/default/acer_cnat_dcyl_ssid_assembly/\n",
    "for i in cnat; do\n",
    "    cat ebi_download.sh | sed \"s/tmpspp/${i}/g\" > ./tmp.sh ; sbatch ./tmp.sh\n",
    "done\n",
    "cat ./tmp.sh"
   ]
  },
  {
   "cell_type": "code",
   "execution_count": 35,
   "id": "7fbb20dc",
   "metadata": {},
   "outputs": [
    {
     "name": "stderr",
     "output_type": "stream",
     "text": [
      "sbatch: slurm_job_submit: Set account to: open default\n",
      "sbatch: slurm_job_submit: Set partition to: open\n",
      "sbatch: slurm_job_submit: User default account open\n"
     ]
    },
    {
     "name": "stdout",
     "output_type": "stream",
     "text": [
      "Submitted batch job 102284\n",
      "#!/bin/bash\n",
      "#SBATCH --nodes=1\n",
      "#SBATCH --ntasks=8\n",
      "#SBATCH --mem=64GB\n",
      "#SBATCH --time=48:00:00\n",
      "#SBATCH --job-name=blobbwa\n",
      "\n",
      "cd ~\n",
      "source ~/.bashrc\n",
      "\n",
      "mkdir -p ~/scratch/sra\n",
      "mkdir -p ~/scratch/sra/tmp\n",
      "mkdir -p ~/scratch/sra/raw\n",
      "mkdir -p ~/scratch/sra/raw/ssid\n",
      "\n",
      "cd ~/scratch/sra/raw/ssid\n",
      "\n",
      "cat /storage/group/ibb3/default/acer_cnat_dcyl_ssid_assembly/raw/RNAseq/ssid/ssidfastq.txt | parallel -j 8 wget -nc ${i}\n"
     ]
    }
   ],
   "source": [
    "%%bash\n",
    "cd /storage/group/ibb3/default/acer_cnat_dcyl_ssid_assembly/\n",
    "for i in ssid; do\n",
    "    cat ebi_download.sh | sed \"s/tmpspp/${i}/g\" > ./tmp.sh ; sbatch ./tmp.sh\n",
    "done\n",
    "cat ./tmp.sh"
   ]
  },
  {
   "cell_type": "markdown",
   "id": "4fe3846b",
   "metadata": {},
   "source": [
    "Since we downloaded from EBI (which has fastqs based on SRA files), our headers are incompatible with the Trinity version required by Funannotate. So we fix it using the following code which converts the headers from this:"
   ]
  },
  {
   "cell_type": "code",
   "execution_count": 53,
   "id": "63f32a0f",
   "metadata": {},
   "outputs": [
    {
     "name": "stdout",
     "output_type": "stream",
     "text": [
      "@SRR14793905.1 A00564:22:HGHFLDMXX:1:1101:9914:1157 length=135\r\n",
      "CCGGCCCGTCGCCGAGCACGGCGAAAGGCCGGACGGATCGGCGAGCGAGGCCGACCCCGCCGACGGACGCGCGCGGCAAACCAGGTGCCGCGGCCGCGGCGGGGCCGGACGACGTCCGACTACGAGCTTTTTAAC\r\n",
      "+SRR14793905.1 A00564:22:HGHFLDMXX:1:1101:9914:1157 length=135\r\n",
      "FFFFFFFFFFFFFFFFFFFFFFFFFFFFFFFFFFFFFFFFFFFFFFFFFFFFFFFFFFFFFFFFFFFFFFFFFFFFFF:FFFFFFFFFFFFFFFFFFF:FFFFFFFFFFFFFFF:FFFFFFFFFFFFFFFFFFFF\r\n",
      "@SRR14793905.2 A00564:22:HGHFLDMXX:1:1101:11017:1157 length=35\r\n",
      "\r\n",
      "gzip: stdout: Broken pipe\r\n"
     ]
    }
   ],
   "source": [
    "!zcat /storage/home/nsl5160/scratch/sra/trimmed/acer/SRR14793905_1_val_1.fq.gz | head -5"
   ]
  },
  {
   "cell_type": "markdown",
   "id": "7c9fb1e8",
   "metadata": {},
   "source": [
    "To this:"
   ]
  },
  {
   "cell_type": "code",
   "execution_count": 58,
   "id": "16c9f9ee",
   "metadata": {},
   "outputs": [
    {
     "name": "stdout",
     "output_type": "stream",
     "text": [
      "@SRR147939051/1\r\n",
      "CCGGCCCGTCGCCGAGCACGGCGAAAGGCCGGACGGATCGGCGAGCGAGGCCGACCCCGCCGACGGACGCGCGCGGCAAACCAGGTGCCGCGGCCGCGGCGGGGCCGGACGACGTCCGACTACGAGCTTTTTAAC\r\n",
      "+\r\n",
      "FFFFFFFFFFFFFFFFFFFFFFFFFFFFFFFFFFFFFFFFFFFFFFFFFFFFFFFFFFFFFFFFFFFFFFFFFFFFFF:FFFFFFFFFFFFFFFFFFF:FFFFFFFFFFFFFFF:FFFFFFFFFFFFFFFFFFFF\r\n",
      "@SRR147939052/1\r\n",
      "sed: couldn't write 133 items to stdout: Broken pipe\r\n",
      "sed: couldn't write 135 items to stdout: Broken pipe\r\n",
      "sed: couldn't write 135 items to stdout: Broken pipe\r\n",
      "sed: couldn't write 134 items to stdout: Broken pipe\r\n",
      "\r\n",
      "gzip: stdout: Broken pipe\r\n"
     ]
    }
   ],
   "source": [
    "!zcat /storage/home/nsl5160/scratch/sra/trimmed/acer/SRR14793905_1_val_1.fq.gz | sed '/^@SRR/ s/ .*//g' | sed '/^@SRR/ s/\\.//g' | sed '/^@SRR/ s/$/\\/1/' | sed '/^+SRR/ s/+SRR.*/+/' | head -5"
   ]
  },
  {
   "cell_type": "markdown",
   "id": "b28086ec",
   "metadata": {},
   "source": [
    "SRR3111804 and SRR3111810 of Ssid have an abnormal number of unpaired reads so we'll just drop those samples entirely:"
   ]
  },
  {
   "cell_type": "code",
   "execution_count": 36,
   "id": "f1666f52",
   "metadata": {},
   "outputs": [],
   "source": [
    "%%bash\n",
    "rm ~/scratch/sra/raw/ssid/SRR3111804*\n",
    "rm ~/scratch/sra/raw/ssid/SRR3111810*"
   ]
  },
  {
   "cell_type": "code",
   "execution_count": 7,
   "id": "7659faf5",
   "metadata": {
    "scrolled": true
   },
   "outputs": [
    {
     "name": "stderr",
     "output_type": "stream",
     "text": [
      "sbatch: slurm_job_submit: Set account to: open default\n",
      "sbatch: slurm_job_submit: Set partition to: open\n",
      "sbatch: slurm_job_submit: User default account open\n"
     ]
    },
    {
     "name": "stdout",
     "output_type": "stream",
     "text": [
      "Submitted batch job 116993\n"
     ]
    },
    {
     "name": "stderr",
     "output_type": "stream",
     "text": [
      "sbatch: slurm_job_submit: Set account to: open default\n",
      "sbatch: slurm_job_submit: Set partition to: open\n",
      "sbatch: slurm_job_submit: User default account open\n"
     ]
    },
    {
     "name": "stdout",
     "output_type": "stream",
     "text": [
      "Submitted batch job 116994\n"
     ]
    },
    {
     "name": "stderr",
     "output_type": "stream",
     "text": [
      "sbatch: slurm_job_submit: Set account to: open default\n",
      "sbatch: slurm_job_submit: Set partition to: open\n",
      "sbatch: slurm_job_submit: User default account open\n"
     ]
    },
    {
     "name": "stdout",
     "output_type": "stream",
     "text": [
      "Submitted batch job 116995\n"
     ]
    },
    {
     "name": "stderr",
     "output_type": "stream",
     "text": [
      "sbatch: slurm_job_submit: Set account to: open default\n",
      "sbatch: slurm_job_submit: Set partition to: open\n",
      "sbatch: slurm_job_submit: User default account open\n"
     ]
    },
    {
     "name": "stdout",
     "output_type": "stream",
     "text": [
      "Submitted batch job 116996\n"
     ]
    },
    {
     "name": "stderr",
     "output_type": "stream",
     "text": [
      "sbatch: slurm_job_submit: Set account to: open default\n",
      "sbatch: slurm_job_submit: Set partition to: open\n",
      "sbatch: slurm_job_submit: User default account open\n"
     ]
    },
    {
     "name": "stdout",
     "output_type": "stream",
     "text": [
      "Submitted batch job 116997\n"
     ]
    },
    {
     "name": "stderr",
     "output_type": "stream",
     "text": [
      "sbatch: slurm_job_submit: Set account to: open default\n",
      "sbatch: slurm_job_submit: Set partition to: open\n",
      "sbatch: slurm_job_submit: User default account open\n"
     ]
    },
    {
     "name": "stdout",
     "output_type": "stream",
     "text": [
      "Submitted batch job 116998\n"
     ]
    },
    {
     "name": "stderr",
     "output_type": "stream",
     "text": [
      "sbatch: slurm_job_submit: Set account to: open default\n",
      "sbatch: slurm_job_submit: Set partition to: open\n",
      "sbatch: slurm_job_submit: User default account open\n"
     ]
    },
    {
     "name": "stdout",
     "output_type": "stream",
     "text": [
      "Submitted batch job 116999\n"
     ]
    },
    {
     "name": "stderr",
     "output_type": "stream",
     "text": [
      "sbatch: slurm_job_submit: Set account to: open default\n",
      "sbatch: slurm_job_submit: Set partition to: open\n",
      "sbatch: slurm_job_submit: User default account open\n"
     ]
    },
    {
     "name": "stdout",
     "output_type": "stream",
     "text": [
      "Submitted batch job 117000\n"
     ]
    },
    {
     "name": "stderr",
     "output_type": "stream",
     "text": [
      "sbatch: slurm_job_submit: Set account to: open default\n",
      "sbatch: slurm_job_submit: Set partition to: open\n",
      "sbatch: slurm_job_submit: User default account open\n"
     ]
    },
    {
     "name": "stdout",
     "output_type": "stream",
     "text": [
      "Submitted batch job 117001\n"
     ]
    },
    {
     "name": "stderr",
     "output_type": "stream",
     "text": [
      "sbatch: slurm_job_submit: Set account to: open default\n",
      "sbatch: slurm_job_submit: Set partition to: open\n",
      "sbatch: slurm_job_submit: User default account open\n"
     ]
    },
    {
     "name": "stdout",
     "output_type": "stream",
     "text": [
      "Submitted batch job 117002\n"
     ]
    },
    {
     "name": "stderr",
     "output_type": "stream",
     "text": [
      "sbatch: slurm_job_submit: Set account to: open default\n",
      "sbatch: slurm_job_submit: Set partition to: open\n",
      "sbatch: slurm_job_submit: User default account open\n"
     ]
    },
    {
     "name": "stdout",
     "output_type": "stream",
     "text": [
      "Submitted batch job 117003\n"
     ]
    },
    {
     "name": "stderr",
     "output_type": "stream",
     "text": [
      "sbatch: slurm_job_submit: Set account to: open default\n",
      "sbatch: slurm_job_submit: Set partition to: open\n",
      "sbatch: slurm_job_submit: User default account open\n"
     ]
    },
    {
     "name": "stdout",
     "output_type": "stream",
     "text": [
      "Submitted batch job 117004\n"
     ]
    },
    {
     "name": "stderr",
     "output_type": "stream",
     "text": [
      "sbatch: slurm_job_submit: Set account to: open default\n",
      "sbatch: slurm_job_submit: Set partition to: open\n",
      "sbatch: slurm_job_submit: User default account open\n"
     ]
    },
    {
     "name": "stdout",
     "output_type": "stream",
     "text": [
      "Submitted batch job 117005\n"
     ]
    },
    {
     "name": "stderr",
     "output_type": "stream",
     "text": [
      "sbatch: slurm_job_submit: Set account to: open default\n",
      "sbatch: slurm_job_submit: Set partition to: open\n",
      "sbatch: slurm_job_submit: User default account open\n"
     ]
    },
    {
     "name": "stdout",
     "output_type": "stream",
     "text": [
      "Submitted batch job 117006\n"
     ]
    },
    {
     "name": "stderr",
     "output_type": "stream",
     "text": [
      "sbatch: slurm_job_submit: Set account to: open default\n",
      "sbatch: slurm_job_submit: Set partition to: open\n",
      "sbatch: slurm_job_submit: User default account open\n"
     ]
    },
    {
     "name": "stdout",
     "output_type": "stream",
     "text": [
      "Submitted batch job 117007\n"
     ]
    },
    {
     "name": "stderr",
     "output_type": "stream",
     "text": [
      "sbatch: slurm_job_submit: Set account to: open default\n",
      "sbatch: slurm_job_submit: Set partition to: open\n",
      "sbatch: slurm_job_submit: User default account open\n"
     ]
    },
    {
     "name": "stdout",
     "output_type": "stream",
     "text": [
      "Submitted batch job 117008\n"
     ]
    },
    {
     "name": "stderr",
     "output_type": "stream",
     "text": [
      "sbatch: slurm_job_submit: Set account to: open default\n",
      "sbatch: slurm_job_submit: Set partition to: open\n",
      "sbatch: slurm_job_submit: User default account open\n"
     ]
    },
    {
     "name": "stdout",
     "output_type": "stream",
     "text": [
      "Submitted batch job 117009\n"
     ]
    },
    {
     "name": "stderr",
     "output_type": "stream",
     "text": [
      "sbatch: slurm_job_submit: Set account to: open default\n",
      "sbatch: slurm_job_submit: Set partition to: open\n",
      "sbatch: slurm_job_submit: User default account open\n"
     ]
    },
    {
     "name": "stdout",
     "output_type": "stream",
     "text": [
      "Submitted batch job 117010\n"
     ]
    },
    {
     "name": "stderr",
     "output_type": "stream",
     "text": [
      "sbatch: slurm_job_submit: Set account to: open default\n",
      "sbatch: slurm_job_submit: Set partition to: open\n",
      "sbatch: slurm_job_submit: User default account open\n"
     ]
    },
    {
     "name": "stdout",
     "output_type": "stream",
     "text": [
      "Submitted batch job 117011\n"
     ]
    },
    {
     "name": "stderr",
     "output_type": "stream",
     "text": [
      "sbatch: slurm_job_submit: Set account to: open default\n",
      "sbatch: slurm_job_submit: Set partition to: open\n",
      "sbatch: slurm_job_submit: User default account open\n"
     ]
    },
    {
     "name": "stdout",
     "output_type": "stream",
     "text": [
      "Submitted batch job 117012\n"
     ]
    },
    {
     "name": "stderr",
     "output_type": "stream",
     "text": [
      "sbatch: slurm_job_submit: Set account to: open default\n",
      "sbatch: slurm_job_submit: Set partition to: open\n",
      "sbatch: slurm_job_submit: User default account open\n"
     ]
    },
    {
     "name": "stdout",
     "output_type": "stream",
     "text": [
      "Submitted batch job 117013\n"
     ]
    },
    {
     "name": "stderr",
     "output_type": "stream",
     "text": [
      "sbatch: slurm_job_submit: Set account to: open default\n",
      "sbatch: slurm_job_submit: Set partition to: open\n",
      "sbatch: slurm_job_submit: User default account open\n"
     ]
    },
    {
     "name": "stdout",
     "output_type": "stream",
     "text": [
      "Submitted batch job 117014\n"
     ]
    },
    {
     "name": "stderr",
     "output_type": "stream",
     "text": [
      "sbatch: slurm_job_submit: Set account to: open default\n",
      "sbatch: slurm_job_submit: Set partition to: open\n",
      "sbatch: slurm_job_submit: User default account open\n"
     ]
    },
    {
     "name": "stdout",
     "output_type": "stream",
     "text": [
      "Submitted batch job 117015\n"
     ]
    },
    {
     "name": "stderr",
     "output_type": "stream",
     "text": [
      "sbatch: slurm_job_submit: Set account to: open default\n",
      "sbatch: slurm_job_submit: Set partition to: open\n",
      "sbatch: slurm_job_submit: User default account open\n"
     ]
    },
    {
     "name": "stdout",
     "output_type": "stream",
     "text": [
      "Submitted batch job 117016\n"
     ]
    },
    {
     "name": "stderr",
     "output_type": "stream",
     "text": [
      "sbatch: slurm_job_submit: Set account to: open default\n",
      "sbatch: slurm_job_submit: Set partition to: open\n",
      "sbatch: slurm_job_submit: User default account open\n"
     ]
    },
    {
     "name": "stdout",
     "output_type": "stream",
     "text": [
      "Submitted batch job 117017\n"
     ]
    },
    {
     "name": "stderr",
     "output_type": "stream",
     "text": [
      "sbatch: slurm_job_submit: Set account to: open default\n",
      "sbatch: slurm_job_submit: Set partition to: open\n",
      "sbatch: slurm_job_submit: User default account open\n"
     ]
    },
    {
     "name": "stdout",
     "output_type": "stream",
     "text": [
      "Submitted batch job 117018\n"
     ]
    },
    {
     "name": "stderr",
     "output_type": "stream",
     "text": [
      "sbatch: slurm_job_submit: Set account to: open default\n",
      "sbatch: slurm_job_submit: Set partition to: open\n",
      "sbatch: slurm_job_submit: User default account open\n"
     ]
    },
    {
     "name": "stdout",
     "output_type": "stream",
     "text": [
      "Submitted batch job 117019\n"
     ]
    },
    {
     "name": "stderr",
     "output_type": "stream",
     "text": [
      "sbatch: slurm_job_submit: Set account to: open default\n",
      "sbatch: slurm_job_submit: Set partition to: open\n",
      "sbatch: slurm_job_submit: User default account open\n"
     ]
    },
    {
     "name": "stdout",
     "output_type": "stream",
     "text": [
      "Submitted batch job 117020\n"
     ]
    },
    {
     "name": "stderr",
     "output_type": "stream",
     "text": [
      "sbatch: slurm_job_submit: Set account to: open default\n",
      "sbatch: slurm_job_submit: Set partition to: open\n",
      "sbatch: slurm_job_submit: User default account open\n"
     ]
    },
    {
     "name": "stdout",
     "output_type": "stream",
     "text": [
      "Submitted batch job 117021\n"
     ]
    },
    {
     "name": "stderr",
     "output_type": "stream",
     "text": [
      "sbatch: slurm_job_submit: Set account to: open default\n",
      "sbatch: slurm_job_submit: Set partition to: open\n",
      "sbatch: slurm_job_submit: User default account open\n"
     ]
    },
    {
     "name": "stdout",
     "output_type": "stream",
     "text": [
      "Submitted batch job 117022\n"
     ]
    },
    {
     "name": "stderr",
     "output_type": "stream",
     "text": [
      "sbatch: slurm_job_submit: Set account to: open default\n",
      "sbatch: slurm_job_submit: Set partition to: open\n",
      "sbatch: slurm_job_submit: User default account open\n"
     ]
    },
    {
     "name": "stdout",
     "output_type": "stream",
     "text": [
      "Submitted batch job 117023\n"
     ]
    },
    {
     "name": "stderr",
     "output_type": "stream",
     "text": [
      "sbatch: slurm_job_submit: Set account to: open default\n",
      "sbatch: slurm_job_submit: Set partition to: open\n",
      "sbatch: slurm_job_submit: User default account open\n"
     ]
    },
    {
     "name": "stdout",
     "output_type": "stream",
     "text": [
      "Submitted batch job 117024\n"
     ]
    },
    {
     "name": "stderr",
     "output_type": "stream",
     "text": [
      "sbatch: slurm_job_submit: Set account to: open default\n",
      "sbatch: slurm_job_submit: Set partition to: open\n",
      "sbatch: slurm_job_submit: User default account open\n"
     ]
    },
    {
     "name": "stdout",
     "output_type": "stream",
     "text": [
      "Submitted batch job 117025\n"
     ]
    },
    {
     "name": "stderr",
     "output_type": "stream",
     "text": [
      "sbatch: slurm_job_submit: Set account to: open default\n",
      "sbatch: slurm_job_submit: Set partition to: open\n",
      "sbatch: slurm_job_submit: User default account open\n"
     ]
    },
    {
     "name": "stdout",
     "output_type": "stream",
     "text": [
      "Submitted batch job 117026\n"
     ]
    },
    {
     "name": "stderr",
     "output_type": "stream",
     "text": [
      "sbatch: slurm_job_submit: Set account to: open default\n",
      "sbatch: slurm_job_submit: Set partition to: open\n",
      "sbatch: slurm_job_submit: User default account open\n"
     ]
    },
    {
     "name": "stdout",
     "output_type": "stream",
     "text": [
      "Submitted batch job 117027\n"
     ]
    },
    {
     "name": "stderr",
     "output_type": "stream",
     "text": [
      "sbatch: slurm_job_submit: Set account to: open default\n",
      "sbatch: slurm_job_submit: Set partition to: open\n",
      "sbatch: slurm_job_submit: User default account open\n"
     ]
    },
    {
     "name": "stdout",
     "output_type": "stream",
     "text": [
      "Submitted batch job 117028\n"
     ]
    },
    {
     "name": "stderr",
     "output_type": "stream",
     "text": [
      "sbatch: slurm_job_submit: Set account to: open default\n",
      "sbatch: slurm_job_submit: Set partition to: open\n",
      "sbatch: slurm_job_submit: User default account open\n"
     ]
    },
    {
     "name": "stdout",
     "output_type": "stream",
     "text": [
      "Submitted batch job 117029\n"
     ]
    },
    {
     "name": "stderr",
     "output_type": "stream",
     "text": [
      "sbatch: slurm_job_submit: Set account to: open default\n",
      "sbatch: slurm_job_submit: Set partition to: open\n",
      "sbatch: slurm_job_submit: User default account open\n"
     ]
    },
    {
     "name": "stdout",
     "output_type": "stream",
     "text": [
      "Submitted batch job 117030\n"
     ]
    },
    {
     "name": "stderr",
     "output_type": "stream",
     "text": [
      "sbatch: slurm_job_submit: Set account to: open default\n",
      "sbatch: slurm_job_submit: Set partition to: open\n",
      "sbatch: slurm_job_submit: User default account open\n"
     ]
    },
    {
     "name": "stdout",
     "output_type": "stream",
     "text": [
      "Submitted batch job 117031\n"
     ]
    },
    {
     "name": "stderr",
     "output_type": "stream",
     "text": [
      "sbatch: slurm_job_submit: Set account to: open default\n",
      "sbatch: slurm_job_submit: Set partition to: open\n",
      "sbatch: slurm_job_submit: User default account open\n"
     ]
    },
    {
     "name": "stdout",
     "output_type": "stream",
     "text": [
      "Submitted batch job 117032\n"
     ]
    },
    {
     "name": "stderr",
     "output_type": "stream",
     "text": [
      "sbatch: slurm_job_submit: Set account to: open default\n",
      "sbatch: slurm_job_submit: Set partition to: open\n",
      "sbatch: slurm_job_submit: User default account open\n"
     ]
    },
    {
     "name": "stdout",
     "output_type": "stream",
     "text": [
      "Submitted batch job 117033\n"
     ]
    },
    {
     "name": "stderr",
     "output_type": "stream",
     "text": [
      "sbatch: slurm_job_submit: Set account to: open default\n",
      "sbatch: slurm_job_submit: Set partition to: open\n",
      "sbatch: slurm_job_submit: User default account open\n"
     ]
    },
    {
     "name": "stdout",
     "output_type": "stream",
     "text": [
      "Submitted batch job 117034\n"
     ]
    },
    {
     "name": "stderr",
     "output_type": "stream",
     "text": [
      "sbatch: slurm_job_submit: Set account to: open default\n",
      "sbatch: slurm_job_submit: Set partition to: open\n",
      "sbatch: slurm_job_submit: User default account open\n"
     ]
    },
    {
     "name": "stdout",
     "output_type": "stream",
     "text": [
      "Submitted batch job 117035\n"
     ]
    },
    {
     "name": "stderr",
     "output_type": "stream",
     "text": [
      "sbatch: slurm_job_submit: Set account to: open default\n",
      "sbatch: slurm_job_submit: Set partition to: open\n",
      "sbatch: slurm_job_submit: User default account open\n"
     ]
    },
    {
     "name": "stdout",
     "output_type": "stream",
     "text": [
      "Submitted batch job 117036\n"
     ]
    },
    {
     "name": "stderr",
     "output_type": "stream",
     "text": [
      "sbatch: slurm_job_submit: Set account to: open default\n",
      "sbatch: slurm_job_submit: Set partition to: open\n",
      "sbatch: slurm_job_submit: User default account open\n"
     ]
    },
    {
     "name": "stdout",
     "output_type": "stream",
     "text": [
      "Submitted batch job 117037\n"
     ]
    },
    {
     "name": "stderr",
     "output_type": "stream",
     "text": [
      "sbatch: slurm_job_submit: Set account to: open default\n",
      "sbatch: slurm_job_submit: Set partition to: open\n",
      "sbatch: slurm_job_submit: User default account open\n"
     ]
    },
    {
     "name": "stdout",
     "output_type": "stream",
     "text": [
      "Submitted batch job 117038\n"
     ]
    },
    {
     "name": "stderr",
     "output_type": "stream",
     "text": [
      "sbatch: slurm_job_submit: Set account to: open default\n",
      "sbatch: slurm_job_submit: Set partition to: open\n",
      "sbatch: slurm_job_submit: User default account open\n"
     ]
    },
    {
     "name": "stdout",
     "output_type": "stream",
     "text": [
      "Submitted batch job 117039\n"
     ]
    },
    {
     "name": "stderr",
     "output_type": "stream",
     "text": [
      "sbatch: slurm_job_submit: Set account to: open default\n",
      "sbatch: slurm_job_submit: Set partition to: open\n",
      "sbatch: slurm_job_submit: User default account open\n"
     ]
    },
    {
     "name": "stdout",
     "output_type": "stream",
     "text": [
      "Submitted batch job 117040\n"
     ]
    },
    {
     "name": "stderr",
     "output_type": "stream",
     "text": [
      "sbatch: slurm_job_submit: Set account to: open default\n",
      "sbatch: slurm_job_submit: Set partition to: open\n",
      "sbatch: slurm_job_submit: User default account open\n"
     ]
    },
    {
     "name": "stdout",
     "output_type": "stream",
     "text": [
      "Submitted batch job 117041\n"
     ]
    },
    {
     "name": "stderr",
     "output_type": "stream",
     "text": [
      "sbatch: slurm_job_submit: Set account to: open default\n",
      "sbatch: slurm_job_submit: Set partition to: open\n",
      "sbatch: slurm_job_submit: User default account open\n"
     ]
    },
    {
     "name": "stdout",
     "output_type": "stream",
     "text": [
      "Submitted batch job 117042\n",
      "#!/bin/bash\n",
      "#SBATCH --nodes=1\n",
      "#SBATCH --ntasks=1\n",
      "#SBATCH --mem=12GB\n",
      "#SBATCH --time=12:00:00\n",
      "#SBATCH --job-name=trimgalore\n",
      "\n",
      "cd ~\n",
      "source ~/.bashrc\n",
      "conda activate deseq2\n",
      "cd ~/scratch/sra/raw/ssid\n",
      "mkdir -p ~/scratch/sra/trimmed/\n",
      "mkdir -p ~/scratch/sra/trimmed/ssid\n",
      "trim_galore \\\n",
      "\t--paired ./SRR3111809_1.fastq.gz ./SRR3111809_2.fastq.gz \\\n",
      "\t-o ~/scratch/sra/trimmed/ssid\n"
     ]
    }
   ],
   "source": [
    "%%bash\n",
    "cd /storage/group/ibb3/default/acer_cnat_dcyl_ssid_assembly/\n",
    "for i in cnat ssid; do\n",
    "    for seq in $( ls ~/scratch/sra/raw/${i}/ | cut -d\"_\" -f1 | uniq ); do\n",
    "        cat trimgalore.sh | sed \"s/tmpspp/${i}/g\" | sed \"s/tmpspot/${seq}/g\" > ./tmp.sh\n",
    "        sbatch ./tmp.sh\n",
    "    done\n",
    "done\n",
    "cat ./tmp.sh"
   ]
  },
  {
   "cell_type": "code",
   "execution_count": null,
   "id": "1c41713f",
   "metadata": {},
   "outputs": [],
   "source": [
    "%%bash\n",
    "cd /storage/group/ibb3/default/acer_cnat_dcyl_ssid_assembly/\n",
    "for i in cnat ssid; do\n",
    "    for seq in $( ls ~/scratch/sra/raw/${i}/ | cut -d\"_\" -f1 | uniq ); do\n",
    "        cat fix_fastq_headers.sh | sed \"s/tmpspp/${i}/g\" | sed \"s/tmpspot/${seq}/g\" > ./tmp.sh\n",
    "        sbatch ./tmp.sh\n",
    "    done\n",
    "done\n",
    "cat ./tmp.sh"
   ]
  },
  {
   "cell_type": "code",
   "execution_count": 2,
   "id": "2d5116e2",
   "metadata": {},
   "outputs": [
    {
     "name": "stdout",
     "output_type": "stream",
     "text": [
      "#!/bin/bash\r\n",
      "#SBATCH --nodes=1\r\n",
      "#SBATCH --ntasks=1\r\n",
      "#SBATCH --mem=12GB\r\n",
      "#SBATCH --time=12:00:00\r\n",
      "#SBATCH --job-name=trimgalore\r\n",
      "\r\n",
      "cd ~\r\n",
      "source ~/.bashrc\r\n",
      "conda activate deseq2\r\n",
      "\r\n",
      "mkdir -p ~/scratch/sra/header_fix/\r\n",
      "mkdir -p ~/scratch/sra/header_fix/tmpspp\r\n",
      "\r\n",
      "\r\n",
      "zcat ~/scratch/sra/trimmed/tmpspp/tmpspot_1_val_1.fq.gz \\\r\n",
      "    | sed '/^@SRR/ s/ .*//g' | sed '/^@SRR/ s/\\.//g' | sed '/^@SRR/ s/$/\\/1/' | sed '/^+SRR/ s/+SRR.*/+/' \\\r\n",
      "    | gzip > ~/scratch/sra/header_fix/tmpspp/tmpspot_val_1.fq.gz\r\n",
      "\r\n",
      "zcat ~/scratch/sra/trimmed/tmpspp/tmpspot_2_val_2.fq.gz \\\r\n",
      "    | sed '/^@SRR/ s/ .*//g' | sed '/^@SRR/ s/\\.//g' | sed '/^@SRR/ s/$/\\/2/' | sed '/^+SRR/ s/+SRR.*/+/' \\\r\n",
      "    | gzip > ~/scratch/sra/header_fix/tmpspp/tmpspot_val_2.fq.gz\r\n"
     ]
    }
   ],
   "source": [
    "!cat ../fix_fastq_headers.sh"
   ]
  },
  {
   "cell_type": "code",
   "execution_count": 2,
   "id": "f4f703ba",
   "metadata": {},
   "outputs": [],
   "source": [
    "%%bash\n",
    "for i in cnat ssid; do\n",
    "    for seq in $( ls ~/scratch/sra/raw/${i}/ | cut -d\"_\" -f1 | uniq ); do\n",
    "        ln -s /storage/home/nsl5160/scratch/sra/header_fix/${i}/${seq}_trimmed_1.fq.gz \\\n",
    "            /storage/group/ibb3/default/acer_cnat_dcyl_ssid_assembly/raw/RNAseq/${i}/${seq}_1.fq.gz\n",
    "        ln -s /storage/home/nsl5160/scratch/sra/header_fix/${i}/${seq}_trimmed_2.fq.gz \\\n",
    "            /storage/group/ibb3/default/acer_cnat_dcyl_ssid_assembly/raw/RNAseq/${i}/${seq}_2.fq.gz\n",
    "    done\n",
    "done"
   ]
  },
  {
   "cell_type": "markdown",
   "id": "7335cb7f",
   "metadata": {},
   "source": [
    "Trimming Dcyl RNAseq data:"
   ]
  },
  {
   "cell_type": "code",
   "execution_count": 7,
   "id": "ca65eb54",
   "metadata": {},
   "outputs": [
    {
     "name": "stdout",
     "output_type": "stream",
     "text": [
      "\u001b[0m\u001b[38;5;9mdcyl_rna_S1217_R1_001.fastq.gz\u001b[0m      \u001b[38;5;9mdcyl_rna_S1217_R2_001.fastq.gz\u001b[0m\r\n",
      "dcyl_rna_S1217_R1_001.fastq.gz.md5  dcyl_rna_S1217_R2_001.fastq.gz.md5\r\n"
     ]
    }
   ],
   "source": [
    "ls /storage/group/ibb3/default/acer_cnat_dcyl_ssid_assembly/raw/RNAseq/dcyl"
   ]
  },
  {
   "cell_type": "code",
   "execution_count": 1,
   "id": "e4eb5140",
   "metadata": {},
   "outputs": [
    {
     "name": "stderr",
     "output_type": "stream",
     "text": [
      "sbatch: slurm_job_submit: Set account to: open default\n",
      "sbatch: slurm_job_submit: Set partition to: open\n",
      "sbatch: slurm_job_submit: User default account open\n"
     ]
    },
    {
     "name": "stdout",
     "output_type": "stream",
     "text": [
      "Submitted batch job 809430\n",
      "#!/bin/bash\n",
      "#SBATCH --nodes=1\n",
      "#SBATCH --ntasks=16\n",
      "#SBATCH --mem=64GB\n",
      "#SBATCH --time=12:00:00\n",
      "#SBATCH --job-name=trimgalore\n",
      "\n",
      "cd ~\n",
      "source ~/.bashrc\n",
      "conda activate deseq2\n",
      "cd /storage/group/ibb3/default/acer_cnat_dcyl_ssid_assembly/raw/RNAseq/dcyl\n",
      "#cd ~/scratch/sra/raw/dcyl\n",
      "#mkdir -p ~/scratch/sra/trimmed/\n",
      "#mkdir -p ~/scratch/sra/trimmed/dcyl\n",
      "trim_galore -j 16 \\\n",
      "\t--paired ./dcyl_rna_S1217_R1_001.fastq.gz ./dcyl_rna_S1217_R2_001.fastq.gz \\\n",
      "\t-o .\n"
     ]
    }
   ],
   "source": [
    "%%bash\n",
    "cd /storage/group/ibb3/default/acer_cnat_dcyl_ssid_assembly/\n",
    "for i in dcyl; do\n",
    "    cat trimgalore.sh | sed \"s/tmpspp/${i}/g\" \\\n",
    "            | sed \"s:cd path:cd /storage/group/ibb3/default/acer_cnat_dcyl_ssid_assembly/raw/RNAseq/dcyl:g\" \\\n",
    "            | sed \"s/tmpspot_1/dcyl_rna_S1217_R1_001/g\" \\\n",
    "            | sed \"s/tmpspot_2/dcyl_rna_S1217_R2_001/g\" \\\n",
    "            | sed \"s/outpath/./g\" \\\n",
    "            | sed \"s/ntasks=1/ntasks=16/g\" \\\n",
    "            | sed \"s/mem=12/mem=64/g\" \\\n",
    "            | sed \"s/trim_galore/trim_galore -j 16/g\" > ./tmp.sh\n",
    "        sbatch ./tmp.sh\n",
    "done\n",
    "cat ./tmp.sh"
   ]
  },
  {
   "cell_type": "markdown",
   "id": "6ac100cd",
   "metadata": {},
   "source": [
    "Now we can proceed with training:"
   ]
  },
  {
   "cell_type": "code",
   "execution_count": 1,
   "id": "fba3858d",
   "metadata": {
    "scrolled": true
   },
   "outputs": [
    {
     "name": "stderr",
     "output_type": "stream",
     "text": [
      "sbatch: slurm_job_submit: Set account to: open default\n",
      "sbatch: slurm_job_submit: Set partition to: open\n",
      "sbatch: slurm_job_submit: User default account open\n"
     ]
    },
    {
     "name": "stdout",
     "output_type": "stream",
     "text": [
      "Submitted batch job 122843\n"
     ]
    },
    {
     "name": "stderr",
     "output_type": "stream",
     "text": [
      "sbatch: slurm_job_submit: Set account to: open default\n",
      "sbatch: slurm_job_submit: Set partition to: open\n",
      "sbatch: slurm_job_submit: User default account open\n"
     ]
    },
    {
     "name": "stdout",
     "output_type": "stream",
     "text": [
      "Submitted batch job 122844\n"
     ]
    },
    {
     "name": "stderr",
     "output_type": "stream",
     "text": [
      "sbatch: slurm_job_submit: Set account to: open default\n",
      "sbatch: slurm_job_submit: Set partition to: open\n",
      "sbatch: slurm_job_submit: User default account open\n"
     ]
    },
    {
     "name": "stdout",
     "output_type": "stream",
     "text": [
      "Submitted batch job 122845\n",
      "#!/bin/bash\n",
      "#SBATCH --nodes=1\n",
      "#SBATCH --ntasks=20\n",
      "#SBATCH --mem=350GB\n",
      "#SBATCH --time=48:00:00\n",
      "#SBATCH --job-name=funan\n",
      "\n",
      "source ~/.bashrc\n",
      "conda activate funannotate\n",
      "cd /storage/group/ibb3/default/acer_cnat_dcyl_ssid_assembly/funannotate_annotation/\n",
      "mkdir -p ./ssid_annotation\n",
      "funannotate train \\\n",
      "\t-i ./ssid_softmasked/ssid_draft_no_mito_sorted.fa.masked \\\n",
      "\t-o ./ssid_annotation \\\n",
      "\t-l /storage/group/ibb3/default/acer_cnat_dcyl_ssid_assembly/raw/RNAseq/ssid/*_1.fq.gz \\\n",
      "\t-r /storage/group/ibb3/default/acer_cnat_dcyl_ssid_assembly/raw/RNAseq/ssid/*_2.fq.gz \\\n",
      "\t--memory 350G \\\n",
      "\t--no_trimmomatic \\\n",
      "\t--pasa_db mysql \\\n",
      "\t--max_intronlen 100000 \\\n",
      "\t--species \"Siderastrea siderea\" \\\n",
      "\t--cpus 20\n"
     ]
    }
   ],
   "source": [
    "%%bash\n",
    "for i in cnat dcyl ssid; do\n",
    "    cd /storage/group/ibb3/default/acer_cnat_dcyl_ssid_assembly/\n",
    "    if [ \"${i}\" == \"cnat\" ]; then\n",
    "        cat ./funannotate_train.sh | sed \"s/tmpspp/${i}/g\" \\\n",
    "            | sed \"s/latinname/\\\"Colpophyllia natans\\\"/g\" > ./tmp.sh\n",
    "        sbatch ./tmp.sh\n",
    "    elif [ \"${i}\" == \"dcyl\" ]; then\n",
    "        cat ./funannotate_train.sh | sed \"s/tmpspp/${i}/g\" \\\n",
    "            | sed \"s/latinname/\\\"Dendrogyra cylindrus\\\"/g\" > ./tmp.sh\n",
    "        sbatch ./tmp.sh\n",
    "    elif [ \"${i}\" == \"ssid\" ]; then\n",
    "        cat ./funannotate_train.sh | sed \"s/tmpspp/${i}/g\" \\\n",
    "            | sed \"s/latinname/\\\"Siderastrea siderea\\\"/g\" > ./tmp.sh\n",
    "        sbatch ./tmp.sh\n",
    "    fi\n",
    "done\n",
    "cat ./tmp.sh"
   ]
  },
  {
   "cell_type": "code",
   "execution_count": 1,
   "id": "8e8264ec",
   "metadata": {
    "scrolled": true
   },
   "outputs": [
    {
     "name": "stderr",
     "output_type": "stream",
     "text": [
      "sbatch: slurm_job_submit: Set account to: open default\n",
      "sbatch: slurm_job_submit: Set partition to: open\n",
      "sbatch: slurm_job_submit: User default account open\n"
     ]
    },
    {
     "name": "stdout",
     "output_type": "stream",
     "text": [
      "Submitted batch job 161771\n"
     ]
    },
    {
     "name": "stderr",
     "output_type": "stream",
     "text": [
      "sbatch: slurm_job_submit: Set account to: open default\n",
      "sbatch: slurm_job_submit: Set partition to: open\n",
      "sbatch: slurm_job_submit: User default account open\n"
     ]
    },
    {
     "name": "stdout",
     "output_type": "stream",
     "text": [
      "Submitted batch job 161772\n"
     ]
    },
    {
     "name": "stderr",
     "output_type": "stream",
     "text": [
      "sbatch: slurm_job_submit: Set account to: open default\n",
      "sbatch: slurm_job_submit: Set partition to: open\n",
      "sbatch: slurm_job_submit: User default account open\n"
     ]
    },
    {
     "name": "stdout",
     "output_type": "stream",
     "text": [
      "Submitted batch job 161773\n",
      "#!/bin/bash\n",
      "#SBATCH --nodes=1\n",
      "#SBATCH --ntasks=30\n",
      "#SBATCH --mem=250GB\n",
      "#SBATCH --time=48:00:00\n",
      "#SBATCH --job-name=funan\n",
      "\n",
      "source ~/.bashrc\n",
      "conda activate funannotate\n",
      "cd /storage/group/ibb3/default/acer_cnat_dcyl_ssid_assembly/funannotate_annotation/\n",
      "\n",
      "funannotate predict \\\n",
      "    -i ./ssid_softmasked/ssid_draft_no_mito_sorted.fa.masked \\\n",
      "    -o ./ssid_annotation \\\n",
      "    --species \"Siderastrea siderea\" \\\n",
      "    --repeats2evm \\\n",
      "    --organism other \\\n",
      "    --max_intronlen 100000 \\\n",
      "    --busco_db metazoa \\\n",
      "    --GENEMARK_PATH /storage/group/ibb3/default/acer_cnat_dcyl_ssid_assembly/gmes_linux_64_4 \\\n",
      "    --cpus 30 \n"
     ]
    }
   ],
   "source": [
    "%%bash\n",
    "for i in cnat dcyl ssid; do\n",
    "    cd /storage/group/ibb3/default/acer_cnat_dcyl_ssid_assembly/\n",
    "    if [ \"${i}\" == \"cnat\" ]; then\n",
    "        cat ./funannotate_predict.sh | sed \"s/tmpspp/${i}/g\" \\\n",
    "            | sed \"s/latinname/\\\"Colpophyllia natans\\\"/g\" > ./tmp.sh\n",
    "        sbatch ./tmp.sh\n",
    "    elif [ \"${i}\" == \"dcyl\" ]; then\n",
    "        cat ./funannotate_predict.sh | sed \"s/tmpspp/${i}/g\" \\\n",
    "            | sed \"s/latinname/\\\"Dendrogyra cylindrus\\\"/g\" > ./tmp.sh\n",
    "        sbatch ./tmp.sh\n",
    "    elif [ \"${i}\" == \"ssid\" ]; then\n",
    "        cat ./funannotate_predict.sh | sed \"s/tmpspp/${i}/g\" \\\n",
    "            | sed \"s/latinname/\\\"Siderastrea siderea\\\"/g\" > ./tmp.sh\n",
    "        sbatch ./tmp.sh\n",
    "    fi\n",
    "done\n",
    "cat ./tmp.sh"
   ]
  },
  {
   "cell_type": "code",
   "execution_count": 3,
   "id": "a49d1e0d",
   "metadata": {
    "scrolled": true
   },
   "outputs": [
    {
     "name": "stderr",
     "output_type": "stream",
     "text": [
      "sbatch: slurm_job_submit: Set account to: open default\n",
      "sbatch: slurm_job_submit: Set partition to: open\n",
      "sbatch: slurm_job_submit: User default account open\n"
     ]
    },
    {
     "name": "stdout",
     "output_type": "stream",
     "text": [
      "Submitted batch job 162468\n"
     ]
    },
    {
     "name": "stderr",
     "output_type": "stream",
     "text": [
      "sbatch: slurm_job_submit: Set account to: open default\n",
      "sbatch: slurm_job_submit: Set partition to: open\n",
      "sbatch: slurm_job_submit: User default account open\n"
     ]
    },
    {
     "name": "stdout",
     "output_type": "stream",
     "text": [
      "Submitted batch job 162469\n"
     ]
    },
    {
     "name": "stderr",
     "output_type": "stream",
     "text": [
      "sbatch: slurm_job_submit: Set account to: open default\n",
      "sbatch: slurm_job_submit: Set partition to: open\n",
      "sbatch: slurm_job_submit: User default account open\n"
     ]
    },
    {
     "name": "stdout",
     "output_type": "stream",
     "text": [
      "Submitted batch job 162470\n",
      "#!/bin/bash\n",
      "#SBATCH --nodes=1\n",
      "#SBATCH --ntasks=30\n",
      "#SBATCH --mem=250GB\n",
      "#SBATCH --time=48:00:00\n",
      "#SBATCH --job-name=funan\n",
      "\n",
      "source ~/.bashrc\n",
      "conda activate funannotate\n",
      "cd /storage/group/ibb3/default/acer_cnat_dcyl_ssid_assembly/funannotate_annotation/\n",
      "\n",
      "funannotate update \\\n",
      "    -i ./ssid_annotation \\\n",
      "    --cpus 30 \\\n",
      "    --memory 250G \\\n",
      "    --pasa_db mysql \\\n",
      "    --max_intronlen 100000\n"
     ]
    }
   ],
   "source": [
    "%%bash\n",
    "for i in cnat dcyl ssid; do\n",
    "    cd /storage/group/ibb3/default/acer_cnat_dcyl_ssid_assembly/\n",
    "    if [ \"${i}\" == \"cnat\" ]; then\n",
    "        cat ./funannotate_update.sh | sed \"s/tmpspp/${i}/g\" \\\n",
    "            | sed \"s/latinname/\\\"Colpophyllia natans\\\"/g\" > ./tmp.sh\n",
    "        sbatch ./tmp.sh\n",
    "    elif [ \"${i}\" == \"dcyl\" ]; then\n",
    "        cat ./funannotate_update.sh | sed \"s/tmpspp/${i}/g\" \\\n",
    "            | sed \"s/latinname/\\\"Dendrogyra cylindrus\\\"/g\" > ./tmp.sh\n",
    "        sbatch ./tmp.sh\n",
    "    elif [ \"${i}\" == \"ssid\" ]; then\n",
    "        cat ./funannotate_update.sh | sed \"s/tmpspp/${i}/g\" \\\n",
    "            | sed \"s/latinname/\\\"Siderastrea siderea\\\"/g\" > ./tmp.sh\n",
    "        sbatch ./tmp.sh\n",
    "    fi\n",
    "done\n",
    "cat ./tmp.sh"
   ]
  },
  {
   "cell_type": "markdown",
   "id": "9a36cf11",
   "metadata": {},
   "source": [
    "Fixing problematic gene models. Dcyl doesn't have any:"
   ]
  },
  {
   "cell_type": "code",
   "execution_count": 8,
   "id": "ae4f3aa6",
   "metadata": {},
   "outputs": [
    {
     "name": "stderr",
     "output_type": "stream",
     "text": [
      "sbatch: slurm_job_submit: Set account to: open default\n",
      "sbatch: slurm_job_submit: Set partition to: open\n",
      "sbatch: slurm_job_submit: User default account open\n"
     ]
    },
    {
     "name": "stdout",
     "output_type": "stream",
     "text": [
      "Submitted batch job 307932\n"
     ]
    },
    {
     "name": "stderr",
     "output_type": "stream",
     "text": [
      "sbatch: slurm_job_submit: Set account to: open default\n",
      "sbatch: slurm_job_submit: Set partition to: open\n",
      "sbatch: slurm_job_submit: User default account open\n"
     ]
    },
    {
     "name": "stdout",
     "output_type": "stream",
     "text": [
      "Submitted batch job 307934\n"
     ]
    },
    {
     "name": "stderr",
     "output_type": "stream",
     "text": [
      "sbatch: slurm_job_submit: Set account to: open default\n",
      "sbatch: slurm_job_submit: Set partition to: open\n",
      "sbatch: slurm_job_submit: User default account open\n"
     ]
    },
    {
     "name": "stdout",
     "output_type": "stream",
     "text": [
      "Submitted batch job 307935\n",
      "#!/bin/bash\n",
      "#SBATCH --nodes=1\n",
      "#SBATCH --ntasks=4\n",
      "#SBATCH --mem=64GB\n",
      "#SBATCH --time=48:00:00\n",
      "#SBATCH --job-name=funan\n",
      "\n",
      "source ~/.bashrc\n",
      "conda activate funannotate\n",
      "cd /storage/group/ibb3/default/acer_cnat_dcyl_ssid_assembly/funannotate_annotation/\n",
      "\n",
      "funannotate fix \\\n",
      "    -i ./ssid_annotation/update_results/Siderastrea_siderea.gbk \\\n",
      "    -t ./ssid_annotation/update_results/Siderastrea_siderea.tbl \\\n",
      "    -d ./ssid_annotation/update_results/drop_loci.txt\n"
     ]
    }
   ],
   "source": [
    "%%bash\n",
    "for i in cnat ssid; do\n",
    "    cd /storage/group/ibb3/default/acer_cnat_dcyl_ssid_assembly/\n",
    "    if [ \"${i}\" == \"cnat\" ]; then\n",
    "        cat ./funannotate_annotation/cnat_annotation/update_results/Colpophyllia_natans.models-need-fixing.txt \\\n",
    "            | tail -n+2 | cut -f1 \\\n",
    "            > ./funannotate_annotation/cnat_annotation/update_results/drop_loci.txt\n",
    "        cat ./funannotate_fix.sh | sed \"s/tmpspp/${i}/g\" \\\n",
    "            | sed \"s/latinname/Colpophyllia_natans/g\" > ./tmp.sh\n",
    "        sbatch ./tmp.sh\n",
    "    elif [ \"${i}\" == \"ssid\" ]; then\n",
    "        cat ./funannotate_annotation/ssid_annotation/update_results/Siderastrea_siderea.models-need-fixing.txt \\\n",
    "            | tail -n+2 | cut -f1 \\\n",
    "            > ./funannotate_annotation/ssid_annotation/update_results/drop_loci.txt\n",
    "        cat ./funannotate_fix.sh | sed \"s/tmpspp/${i}/g\" \\\n",
    "            | sed \"s/latinname/Siderastrea_siderea/g\" > ./tmp.sh\n",
    "        sbatch ./tmp.sh\n",
    "    fi\n",
    "done\n",
    "cat ./tmp.sh"
   ]
  },
  {
   "cell_type": "code",
   "execution_count": 1,
   "id": "319029b9",
   "metadata": {},
   "outputs": [
    {
     "name": "stdout",
     "output_type": "stream",
     "text": [
      "Submitted batch job 7356273\n",
      "Submitted batch job 7356274\n",
      "Submitted batch job 7356275\n",
      "#!/bin/bash\n",
      "#SBATCH --nodes=1\n",
      "#SBATCH --ntasks=48\n",
      "#SBATCH --mem=256GB\n",
      "#SBATCH --time=48:00:00\n",
      "#SBATCH --job-name=funan\n",
      "#SBATCH --account=ibb3\n",
      "#SBATCH --qos=burst3x\n",
      "#SBATCH --partition=burst\n",
      "\n",
      "source ~/.bashrc\n",
      "conda activate funannotate\n",
      "cd /storage/group/ibb3/default/acer_cnat_dcyl_ssid_assembly/funannotate_annotation/\n",
      "\n",
      "funannotate iprscan \\\n",
      "    -i ./ssid_annotation \\\n",
      "    --method local \\\n",
      "    --out /storage/group/ibb3/default/acer_cnat_dcyl_ssid_assembly/funannotate_annotation/Siderastrea_siderea.proteins.fa.xml \\\n",
      "    --iprscan_path /storage/home/nsl5160/scratch/interpro/interproscan-5.65-97.0/interproscan.sh \\\n",
      "    --cpus 48\n"
     ]
    }
   ],
   "source": [
    "%%bash\n",
    "for i in cnat dcyl ssid; do\n",
    "    cd /storage/group/ibb3/default/acer_cnat_dcyl_ssid_assembly/\n",
    "    if [ \"${i}\" == \"cnat\" ]; then\n",
    "        cat ./funannotate_iprscan.sh | sed \"s/tmpspp/${i}/g\" \\\n",
    "            | sed \"s/latinname/Colpophyllia_natans/g\" > ./tmp.sh\n",
    "        sbatch ./tmp.sh\n",
    "    elif [ \"${i}\" == \"dcyl\" ]; then\n",
    "        cat ./funannotate_iprscan.sh | sed \"s/tmpspp/${i}/g\" \\\n",
    "            | sed \"s/latinname/Dendrogyra_cylindrus/g\" > ./tmp.sh\n",
    "        sbatch ./tmp.sh\n",
    "    elif [ \"${i}\" == \"ssid\" ]; then\n",
    "        cat ./funannotate_iprscan.sh | sed \"s/tmpspp/${i}/g\" \\\n",
    "            | sed \"s/latinname/Siderastrea_siderea/g\" > ./tmp.sh\n",
    "        sbatch ./tmp.sh\n",
    "    fi\n",
    "done\n",
    "cat ./tmp.sh"
   ]
  },
  {
   "cell_type": "code",
   "execution_count": 4,
   "id": "7b31da3c",
   "metadata": {},
   "outputs": [
    {
     "name": "stderr",
     "output_type": "stream",
     "text": [
      "sbatch: slurm_job_submit: No account set, using default acct: open\n"
     ]
    },
    {
     "name": "stdout",
     "output_type": "stream",
     "text": [
      "Submitted batch job 7388380\n",
      "#!/bin/bash\n",
      "#SBATCH --nodes=1\n",
      "#SBATCH --ntasks=40\n",
      "#SBATCH --mem=256GB\n",
      "#SBATCH --time=12:00:00\n",
      "#SBATCH --job-name=funan\n",
      "\n",
      "source ~/.bashrc\n",
      "conda activate funannotate\n",
      "cd /storage/group/ibb3/default/acer_cnat_dcyl_ssid_assembly/funannotate_annotation/\n",
      "\n",
      "export EGGNOG_DATA_DIR=/storage/group/ibb3/default/acer_cnat_dcyl_ssid_assembly/eggnog-map/data\n",
      "\n",
      "funannotate annotate \\\n",
      "    -i ./ssid_annotation \\\n",
      "    --iprscan /storage/group/ibb3/default/acer_cnat_dcyl_ssid_assembly/funannotate_annotation/Siderastrea_siderea.proteins.fa.xml \\\n",
      "    --cpus 40 \\\n",
      "    --sbt /storage/group/ibb3/default/acer_cnat_dcyl_ssid_assembly/ssid.sbt\n",
      "    --busco_db metazoa\n"
     ]
    }
   ],
   "source": [
    "%%bash\n",
    "for i in cnat dcyl ssid; do\n",
    "    cd /storage/group/ibb3/default/acer_cnat_dcyl_ssid_assembly/\n",
    "    if [ \"${i}\" == \"cnat\" ]; then\n",
    "        cat ./funannotate_annotate.sh | sed \"s/tmpspp/${i}/g\" \\\n",
    "            | sed \"s/latinname/Colpophyllia_natans/g\" > ./tmp.sh\n",
    "        sbatch ./tmp.sh\n",
    "    elif [ \"${i}\" == \"dcyl\" ]; then\n",
    "        cat ./funannotate_annotate.sh | sed \"s/tmpspp/${i}/g\" \\\n",
    "            | sed \"s/latinname/Dendrogyra_cylindrus/g\" > ./tmp.sh\n",
    "        sbatch ./tmp.sh\n",
    "    elif [ \"${i}\" == \"ssid\" ]; then\n",
    "        cat ./funannotate_annotate.sh | sed \"s/tmpspp/${i}/g\" \\\n",
    "            | sed \"s/latinname/Siderastrea_siderea/g\" > ./tmp.sh\n",
    "        sbatch ./tmp.sh\n",
    "    fi\n",
    "done\n",
    "cat ./tmp.sh"
   ]
  }
 ],
 "metadata": {
  "kernelspec": {
   "display_name": "NetworkX",
   "language": "python",
   "name": "networkx"
  },
  "language_info": {
   "codemirror_mode": {
    "name": "ipython",
    "version": 3
   },
   "file_extension": ".py",
   "mimetype": "text/x-python",
   "name": "python",
   "nbconvert_exporter": "python",
   "pygments_lexer": "ipython3",
   "version": "3.11.0"
  }
 },
 "nbformat": 4,
 "nbformat_minor": 5
}

{
 "cells": [
  {
   "cell_type": "markdown",
   "id": "d98e79ad",
   "metadata": {},
   "source": [
    "Jellyfish size estimation:"
   ]
  },
  {
   "cell_type": "code",
   "execution_count": 5,
   "id": "3e21f1c3",
   "metadata": {},
   "outputs": [
    {
     "name": "stderr",
     "output_type": "stream",
     "text": [
      "sbatch: slurm_job_submit: Retrieving default account: open\n",
      "sbatch: slurm_job_submit: No account set, using default acct: open\n"
     ]
    },
    {
     "name": "stdout",
     "output_type": "stream",
     "text": [
      "Submitted batch job 3680241\n",
      "#!/bin/bash\n",
      "#SBATCH --nodes=1\n",
      "#SBATCH --ntasks=20\n",
      "#SBATCH --mem=128GB\n",
      "#SBATCH --time=48:00:00\n",
      "#SBATCH --job-name=jellyfish\n",
      "\n",
      "cd ~\n",
      "source ~/.bashrc\n",
      "conda activate assembly\n",
      "cd /storage/group/ibb3/default/acer_cnat_dcyl_ssid_assembly/jellyfish\n",
      "mkdir -p ./acer\n",
      "cd ./acer\n",
      "\n",
      "jellyfish count -C -m 31 -s 1000000000 -t 20 \\\n",
      "    -o acer_31mer \\\n",
      "    <(zcat /storage/group/ibb3/default/acer_cnat_dcyl_ssid_assembly/raw/acer_illumina/Sample_14120_R1_val_1.fq.gz ) \\\n",
      "    <(zcat /storage/group/ibb3/default/acer_cnat_dcyl_ssid_assembly/raw/acer_illumina/Sample_14120_R2_val_2.fq.gz )\n",
      "\n",
      "jellyfish histo -o acer_31mer.histo acer_31mer\n"
     ]
    },
    {
     "name": "stderr",
     "output_type": "stream",
     "text": [
      "sbatch: slurm_job_submit: Retrieving default account: open\n",
      "sbatch: slurm_job_submit: No account set, using default acct: open\n"
     ]
    },
    {
     "name": "stdout",
     "output_type": "stream",
     "text": [
      "Submitted batch job 3680242\n",
      "#!/bin/bash\n",
      "#SBATCH --nodes=1\n",
      "#SBATCH --ntasks=20\n",
      "#SBATCH --mem=128GB\n",
      "#SBATCH --time=48:00:00\n",
      "#SBATCH --job-name=jellyfish\n",
      "\n",
      "cd ~\n",
      "source ~/.bashrc\n",
      "conda activate assembly\n",
      "cd /storage/group/ibb3/default/acer_cnat_dcyl_ssid_assembly/jellyfish\n",
      "mkdir -p ./cnat\n",
      "cd ./cnat\n",
      "\n",
      "jellyfish count -C -m 31 -s 1000000000 -t 20 \\\n",
      "    -o cnat_31mer \\\n",
      "    <(zcat /storage/group/ibb3/default/acer_cnat_dcyl_ssid_assembly/raw/r64404e_20220930_165715/bc2003--bc2003/m64404e_220930_172413.hifi_reads.bc2003--bc2003.fastq.gz ) \\\n",
      "    <(zcat /storage/group/ibb3/default/acer_cnat_dcyl_ssid_assembly/raw/r64404e_20221003_161843/bc2003--bc2003/m64404e_221003_164121.hifi_reads.bc2003--bc2003.fastq.gz ) \\\n",
      "    <(zcat /storage/group/ibb3/default/acer_cnat_dcyl_ssid_assembly/raw/r64404e_20221026_162334/bc2006--bc2006/m64404e_221026_163958.hifi_reads.bc2006--bc2006.fastq.gz )\n",
      "\n",
      "jellyfish histo -o cnat_31mer.histo cnat_31mer\n"
     ]
    },
    {
     "name": "stderr",
     "output_type": "stream",
     "text": [
      "sbatch: slurm_job_submit: Retrieving default account: open\n",
      "sbatch: slurm_job_submit: No account set, using default acct: open\n"
     ]
    },
    {
     "name": "stdout",
     "output_type": "stream",
     "text": [
      "Submitted batch job 3680243\n",
      "#!/bin/bash\n",
      "#SBATCH --nodes=1\n",
      "#SBATCH --ntasks=20\n",
      "#SBATCH --mem=128GB\n",
      "#SBATCH --time=48:00:00\n",
      "#SBATCH --job-name=jellyfish\n",
      "\n",
      "cd ~\n",
      "source ~/.bashrc\n",
      "conda activate assembly\n",
      "cd /storage/group/ibb3/default/acer_cnat_dcyl_ssid_assembly/jellyfish\n",
      "mkdir -p ./dcyl\n",
      "cd ./dcyl\n",
      "\n",
      "jellyfish count -C -m 31 -s 1000000000 -t 20 \\\n",
      "    -o dcyl_31mer \\\n",
      "    <(zcat /storage/group/ibb3/default/acer_cnat_dcyl_ssid_assembly/raw/r64404e_20220930_165715/bc2001--bc2001/m64404e_220930_172413.hifi_reads.bc2001--bc2001.fastq.gz ) \\\n",
      "    <(zcat /storage/group/ibb3/default/acer_cnat_dcyl_ssid_assembly/raw/r64404e_20221003_161843/bc2001--bc2001/m64404e_221003_164121.hifi_reads.bc2001--bc2001.fastq.gz ) \\\n",
      "    <(zcat /storage/group/ibb3/default/acer_cnat_dcyl_ssid_assembly/raw/r64404e_20221026_162334/bc2004--bc2004/m64404e_221026_163958.hifi_reads.bc2004--bc2004.fastq.gz )\n",
      "\n",
      "jellyfish histo -o dcyl_31mer.histo dcyl_31mer\n"
     ]
    },
    {
     "name": "stderr",
     "output_type": "stream",
     "text": [
      "sbatch: slurm_job_submit: Retrieving default account: open\n",
      "sbatch: slurm_job_submit: No account set, using default acct: open\n"
     ]
    },
    {
     "name": "stdout",
     "output_type": "stream",
     "text": [
      "Submitted batch job 3680244\n",
      "#!/bin/bash\n",
      "#SBATCH --nodes=1\n",
      "#SBATCH --ntasks=20\n",
      "#SBATCH --mem=128GB\n",
      "#SBATCH --time=48:00:00\n",
      "#SBATCH --job-name=jellyfish\n",
      "\n",
      "cd ~\n",
      "source ~/.bashrc\n",
      "conda activate assembly\n",
      "cd /storage/group/ibb3/default/acer_cnat_dcyl_ssid_assembly/jellyfish\n",
      "mkdir -p ./ssid\n",
      "cd ./ssid\n",
      "\n",
      "jellyfish count -C -m 31 -s 1000000000 -t 20 \\\n",
      "    -o ssid_31mer \\\n",
      "    <(zcat /storage/group/ibb3/default/acer_cnat_dcyl_ssid_assembly/raw/r64404e_20220930_165715/bc2002--bc2002/m64404e_220930_172413.hifi_reads.bc2002--bc2002.fastq.gz ) \\\n",
      "    <(zcat /storage/group/ibb3/default/acer_cnat_dcyl_ssid_assembly/raw/r64404e_20221003_161843/bc2002--bc2002/m64404e_221003_164121.hifi_reads.bc2002--bc2002.fastq.gz ) \\\n",
      "    <(zcat /storage/group/ibb3/default/acer_cnat_dcyl_ssid_assembly/raw/r64404e_20221026_162334/bc2005--bc2005/m64404e_221026_163958.hifi_reads.bc2005--bc2005.fastq.gz )\n",
      "\n",
      "jellyfish histo -o ssid_31mer.histo ssid_31mer\n"
     ]
    }
   ],
   "source": [
    "%%bash\n",
    "cd /storage/group/ibb3/default/acer_cnat_dcyl_ssid_assembly/\n",
    "for i in cnat dcyl ssid; do\n",
    "    sbatch ./jellyfish_${i}.sh\n",
    "    cat ./jellyfish_${i}.sh\n",
    "done"
   ]
  },
  {
   "cell_type": "markdown",
   "id": "bda3f4e8",
   "metadata": {},
   "source": [
    "We'll also download, trim, and do a kmer size estimation of a short read dataset of Siderastrea siderea from Mexico from SRA to compare. This will give us some hints as to if this is a) the same lineage as in Mexico and b) if this is unique to Curacao Ssid."
   ]
  },
  {
   "cell_type": "code",
   "execution_count": 4,
   "id": "58a0bab2",
   "metadata": {},
   "outputs": [
    {
     "name": "stdout",
     "output_type": "stream",
     "text": [
      "Submitted batch job 3734666\n",
      "#!/bin/bash\n",
      "#SBATCH --account=open\n",
      "#SBATCH --nodes=1\n",
      "#SBATCH --ntasks=20\n",
      "#SBATCH --mem=128GB\n",
      "#SBATCH --time=16:00:00\n",
      "#SBATCH --job-name=sratools\n",
      "\n",
      "source ~/.bashrc\n",
      "conda activate masters\n",
      "mkdir -p ~/scratch/ssid_jellyfish\n",
      "cd ~/scratch/ssid_jellyfish/\n",
      "mkdir -p ./sra_downloads\n",
      "cd ./sra_downloads\n",
      "\n",
      "fasterq-dump SRR5215424 --threads 20 --mem 6000MB --split-files \\\n",
      "    --outdir ~/scratch/ssid_jellyfish/sra_downloads\n"
     ]
    }
   ],
   "source": [
    "%%bash\n",
    "cd /storage/group/ibb3/default/acer_cnat_dcyl_ssid_assembly/\n",
    "cat ./fasterq_dump.sh | sed \"s/acer/ssid_jellyfish/g\" | sed \"s/tmpspot/SRR5215424/g\" \\\n",
    "    > ./tmp.sh\n",
    "sbatch ./tmp.sh\n",
    "cat ./tmp.sh"
   ]
  },
  {
   "cell_type": "code",
   "execution_count": 29,
   "id": "fd12558b",
   "metadata": {},
   "outputs": [
    {
     "name": "stderr",
     "output_type": "stream",
     "text": [
      "sbatch: slurm_job_submit: Retrieving default account: open\n",
      "sbatch: slurm_job_submit: No account set, using default acct: open\n"
     ]
    },
    {
     "name": "stdout",
     "output_type": "stream",
     "text": [
      "Submitted batch job 3735476\n",
      "#!/bin/bash\n",
      "#SBATCH --nodes=1\n",
      "#SBATCH --ntasks=8\n",
      "#SBATCH --mem=48GB\n",
      "#SBATCH --time=12:00:00\n",
      "#SBATCH --job-name=trimgalore\n",
      "\n",
      "cd ~\n",
      "source ~/.bashrc\n",
      "conda activate deseq2\n",
      "\n",
      "cd ~/scratch/ssid_jellyfish/sra_downloads\n",
      "mkdir -p ~/scratch/ssid_jellyfish/trimmed\n",
      "\n",
      "trim_galore --cores 8 \\\n",
      "\t--paired ./SRR5215424_1.fastq ./SRR5215424_2.fastq \\\n",
      "\t-o ../trimmed --gzip\n"
     ]
    }
   ],
   "source": [
    "%%bash\n",
    "cd /storage/group/ibb3/default/acer_cnat_dcyl_ssid_assembly/\n",
    "cat ./trimgalore.sh | sed \"s/acer/ssid_jellyfish/g\" \\\n",
    "    | sed \"s/tmpspot/SRR5215424/g\" > ./tmp.sh\n",
    "sbatch ./tmp.sh\n",
    "cat ./tmp.sh"
   ]
  },
  {
   "cell_type": "code",
   "execution_count": 30,
   "id": "5f283017",
   "metadata": {},
   "outputs": [
    {
     "name": "stdout",
     "output_type": "stream",
     "text": [
      "#!/bin/bash\n",
      "#SBATCH --nodes=1\n",
      "#SBATCH --ntasks=20\n",
      "#SBATCH --mem=256GB\n",
      "#SBATCH --time=48:00:00\n",
      "#SBATCH --job-name=jellyfish\n",
      "\n",
      "cd ~\n",
      "source ~/.bashrc\n",
      "conda activate assembly\n",
      "cd /storage/group/ibb3/default/acer_cnat_dcyl_ssid_assembly/jellyfish\n",
      "mkdir -p ./ssid_sra\n",
      "cd ./ssid_sra\n",
      "\n",
      "jellyfish count -C -m 31 -s 1000000000 -t 20 \\\n",
      "    -o ssid_sra_31mer \\\n",
      "    <(zcat ~/scratch/ssid_jellyfish/trimmed/SRR5215424_1_val_1.fq.gz ) \\\n",
      "    <(zcat ~/scratch/ssid_jellyfish/trimmed/SRR5215424_2_val_2.fq.gz )\n",
      "\n",
      "jellyfish histo -o ssid_31mer_sra.histo ssid_sra_31mer\n"
     ]
    },
    {
     "name": "stderr",
     "output_type": "stream",
     "text": [
      "sbatch: slurm_job_submit: Retrieving default account: open\n",
      "sbatch: slurm_job_submit: No account set, using default acct: open\n"
     ]
    },
    {
     "name": "stdout",
     "output_type": "stream",
     "text": [
      "Submitted batch job 3735477\n"
     ]
    }
   ],
   "source": [
    "%%bash\n",
    "cd /storage/group/ibb3/default/acer_cnat_dcyl_ssid_assembly/\n",
    "cat ./jellyfish_ssid_sra.sh\n",
    "sbatch ./jellyfish_ssid_sra.sh"
   ]
  }
 ],
 "metadata": {
  "kernelspec": {
   "display_name": "NetworkX",
   "language": "python",
   "name": "networkx"
  },
  "language_info": {
   "codemirror_mode": {
    "name": "ipython",
    "version": 3
   },
   "file_extension": ".py",
   "mimetype": "text/x-python",
   "name": "python",
   "nbconvert_exporter": "python",
   "pygments_lexer": "ipython3",
   "version": "3.11.0"
  }
 },
 "nbformat": 4,
 "nbformat_minor": 5
}

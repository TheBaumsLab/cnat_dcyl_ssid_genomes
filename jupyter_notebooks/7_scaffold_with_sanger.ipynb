{
 "cells": [
  {
   "cell_type": "markdown",
   "id": "3a22c3af",
   "metadata": {},
   "source": [
    "Recently, the Sanger Institute released chromosome-level assemblies (no publication and no gene prediction) for _Dendrogyra cylindrus_ and _Siderastrea siderea_ (_Colpophyllia natans_ is still in process). Here, we use RagTag to scaffold our assemblies to chromosome-level using their assemblies. We generate `.agp` and `.chain` files so that folks can update their variant calls, generate a scaffolded, chromosome-level assembly from our assembly, update the gff3/annotations to new coordinates, or update coordinates from other analyses to the updated, chromosome-level coordinates:"
   ]
  },
  {
   "cell_type": "code",
   "execution_count": 7,
   "id": "024b9675",
   "metadata": {
    "scrolled": true
   },
   "outputs": [
    {
     "name": "stderr",
     "output_type": "stream",
     "text": [
      "Sun Aug 18 13:42:08 2024 --- VERSION: RagTag v2.1.0\n",
      "Sun Aug 18 13:42:08 2024 --- CMD: ragtag.py scaffold /storage/home/nsl5160/scratch/GCA_964187815.1_jaDenCyli1.1_genomic.fna /storage/home/nsl5160/scratch/Dendrogyra_cylindrus.scaffolds.fa -t 8 -r -u -o ../resources/dcyl\n",
      "Sun Aug 18 13:42:08 2024 --- INFO: Mapping the query genome to the reference genome\n",
      "Sun Aug 18 13:42:08 2024 --- INFO: Running: minimap2 -x asm5 -t 8 /storage/home/nsl5160/scratch/GCA_964187815.1_jaDenCyli1.1_genomic.fna /storage/home/nsl5160/scratch/Dendrogyra_cylindrus.scaffolds.fa > /storage/group/ibb3/default/cnat_dcyl_ssid_genomes/resources/dcyl/ragtag.scaffold.asm.paf 2> /storage/group/ibb3/default/cnat_dcyl_ssid_genomes/resources/dcyl/ragtag.scaffold.asm.paf.log\n",
      "Sun Aug 18 13:46:20 2024 --- INFO: Finished running : minimap2 -x asm5 -t 8 /storage/home/nsl5160/scratch/GCA_964187815.1_jaDenCyli1.1_genomic.fna /storage/home/nsl5160/scratch/Dendrogyra_cylindrus.scaffolds.fa > /storage/group/ibb3/default/cnat_dcyl_ssid_genomes/resources/dcyl/ragtag.scaffold.asm.paf 2> /storage/group/ibb3/default/cnat_dcyl_ssid_genomes/resources/dcyl/ragtag.scaffold.asm.paf.log\n",
      "Sun Aug 18 13:46:20 2024 --- INFO: Reading whole genome alignments\n",
      "Sun Aug 18 13:46:20 2024 --- INFO: Filtering and merging alignments\n",
      "Sun Aug 18 13:46:20 2024 --- INFO: Ordering and orienting query sequences\n",
      "Sun Aug 18 13:46:20 2024 --- INFO: 34 inferred gap\n",
      "Sun Aug 18 13:46:20 2024 --- INFO: 187 adjacent contig within min distance (100) of each other\n",
      "Sun Aug 18 13:46:20 2024 --- INFO: 49 inferred gaps exceed length threshold (100000)\n",
      "Sun Aug 18 13:46:20 2024 --- INFO: Writing scaffolds\n",
      "Sun Aug 18 13:46:20 2024 --- INFO: Writing: /storage/group/ibb3/default/cnat_dcyl_ssid_genomes/resources/dcyl/ragtag.scaffold.agp\n",
      "Sun Aug 18 13:46:20 2024 --- INFO: Running: ragtag_agp2fa.py /storage/group/ibb3/default/cnat_dcyl_ssid_genomes/resources/dcyl/ragtag.scaffold.agp /storage/home/nsl5160/scratch/Dendrogyra_cylindrus.scaffolds.fa > /storage/group/ibb3/default/cnat_dcyl_ssid_genomes/resources/dcyl/ragtag.scaffold.fasta 2> /storage/group/ibb3/default/cnat_dcyl_ssid_genomes/resources/dcyl/ragtag.scaffold.err\n",
      "Sun Aug 18 13:46:27 2024 --- INFO: Finished running : ragtag_agp2fa.py /storage/group/ibb3/default/cnat_dcyl_ssid_genomes/resources/dcyl/ragtag.scaffold.agp /storage/home/nsl5160/scratch/Dendrogyra_cylindrus.scaffolds.fa > /storage/group/ibb3/default/cnat_dcyl_ssid_genomes/resources/dcyl/ragtag.scaffold.fasta 2> /storage/group/ibb3/default/cnat_dcyl_ssid_genomes/resources/dcyl/ragtag.scaffold.err\n",
      "Sun Aug 18 13:46:27 2024 --- INFO: Running: ragtag_stats.py /storage/group/ibb3/default/cnat_dcyl_ssid_genomes/resources/dcyl/ragtag.scaffold.agp /storage/group/ibb3/default/cnat_dcyl_ssid_genomes/resources/dcyl/ragtag.scaffold.confidence.txt > /storage/group/ibb3/default/cnat_dcyl_ssid_genomes/resources/dcyl/ragtag.scaffold.stats 2> /storage/group/ibb3/default/cnat_dcyl_ssid_genomes/resources/dcyl/ragtag.scaffold.err\n",
      "Sun Aug 18 13:46:27 2024 --- INFO: Finished running : ragtag_stats.py /storage/group/ibb3/default/cnat_dcyl_ssid_genomes/resources/dcyl/ragtag.scaffold.agp /storage/group/ibb3/default/cnat_dcyl_ssid_genomes/resources/dcyl/ragtag.scaffold.confidence.txt > /storage/group/ibb3/default/cnat_dcyl_ssid_genomes/resources/dcyl/ragtag.scaffold.stats 2> /storage/group/ibb3/default/cnat_dcyl_ssid_genomes/resources/dcyl/ragtag.scaffold.err\n",
      "Sun Aug 18 13:46:27 2024 --- INFO: Goodbye\n"
     ]
    }
   ],
   "source": [
    "%%bash\n",
    "source ~/.bashrc\n",
    "conda activate ragtag\n",
    "ragtag.py scaffold \\\n",
    "    ~/scratch/GCA_964187815.1_jaDenCyli1.1_genomic.fna \\\n",
    "    ~/scratch/Dendrogyra_cylindrus.scaffolds.fa \\\n",
    "    -t 8 -r -u -o ../resources/dcyl"
   ]
  },
  {
   "cell_type": "code",
   "execution_count": 8,
   "id": "fccb1a4c",
   "metadata": {
    "scrolled": true
   },
   "outputs": [
    {
     "name": "stderr",
     "output_type": "stream",
     "text": [
      "Sun Aug 18 13:46:29 2024 --- VERSION: RagTag v2.1.0\n",
      "Sun Aug 18 13:46:29 2024 --- CMD: ragtag.py scaffold /storage/home/nsl5160/scratch/GCA_964030785.1_jaSidSide1.1_genomic.fna /storage/home/nsl5160/scratch/Siderastrea_siderea.scaffolds.fa -t 8 -r -u -o ../resources/ssid\n",
      "Sun Aug 18 13:46:29 2024 --- INFO: Mapping the query genome to the reference genome\n",
      "Sun Aug 18 13:46:29 2024 --- INFO: Running: minimap2 -x asm5 -t 8 /storage/home/nsl5160/scratch/GCA_964030785.1_jaSidSide1.1_genomic.fna /storage/home/nsl5160/scratch/Siderastrea_siderea.scaffolds.fa > /storage/group/ibb3/default/cnat_dcyl_ssid_genomes/resources/ssid/ragtag.scaffold.asm.paf 2> /storage/group/ibb3/default/cnat_dcyl_ssid_genomes/resources/ssid/ragtag.scaffold.asm.paf.log\n",
      "Sun Aug 18 13:52:19 2024 --- INFO: Finished running : minimap2 -x asm5 -t 8 /storage/home/nsl5160/scratch/GCA_964030785.1_jaSidSide1.1_genomic.fna /storage/home/nsl5160/scratch/Siderastrea_siderea.scaffolds.fa > /storage/group/ibb3/default/cnat_dcyl_ssid_genomes/resources/ssid/ragtag.scaffold.asm.paf 2> /storage/group/ibb3/default/cnat_dcyl_ssid_genomes/resources/ssid/ragtag.scaffold.asm.paf.log\n",
      "Sun Aug 18 13:52:19 2024 --- INFO: Reading whole genome alignments\n",
      "Sun Aug 18 13:52:19 2024 --- INFO: Filtering and merging alignments\n",
      "Sun Aug 18 13:52:20 2024 --- INFO: Ordering and orienting query sequences\n",
      "Sun Aug 18 13:52:20 2024 --- INFO: 15 inferred gap\n",
      "Sun Aug 18 13:52:20 2024 --- INFO: 109 adjacent contig within min distance (100) of each other\n",
      "Sun Aug 18 13:52:20 2024 --- INFO: 66 inferred gaps exceed length threshold (100000)\n",
      "Sun Aug 18 13:52:20 2024 --- INFO: Writing scaffolds\n",
      "Sun Aug 18 13:52:20 2024 --- INFO: Writing: /storage/group/ibb3/default/cnat_dcyl_ssid_genomes/resources/ssid/ragtag.scaffold.agp\n",
      "Sun Aug 18 13:52:26 2024 --- INFO: Running: ragtag_agp2fa.py /storage/group/ibb3/default/cnat_dcyl_ssid_genomes/resources/ssid/ragtag.scaffold.agp /storage/home/nsl5160/scratch/Siderastrea_siderea.scaffolds.fa > /storage/group/ibb3/default/cnat_dcyl_ssid_genomes/resources/ssid/ragtag.scaffold.fasta 2> /storage/group/ibb3/default/cnat_dcyl_ssid_genomes/resources/ssid/ragtag.scaffold.err\n",
      "Sun Aug 18 13:52:37 2024 --- INFO: Finished running : ragtag_agp2fa.py /storage/group/ibb3/default/cnat_dcyl_ssid_genomes/resources/ssid/ragtag.scaffold.agp /storage/home/nsl5160/scratch/Siderastrea_siderea.scaffolds.fa > /storage/group/ibb3/default/cnat_dcyl_ssid_genomes/resources/ssid/ragtag.scaffold.fasta 2> /storage/group/ibb3/default/cnat_dcyl_ssid_genomes/resources/ssid/ragtag.scaffold.err\n",
      "Sun Aug 18 13:52:37 2024 --- INFO: Running: ragtag_stats.py /storage/group/ibb3/default/cnat_dcyl_ssid_genomes/resources/ssid/ragtag.scaffold.agp /storage/group/ibb3/default/cnat_dcyl_ssid_genomes/resources/ssid/ragtag.scaffold.confidence.txt > /storage/group/ibb3/default/cnat_dcyl_ssid_genomes/resources/ssid/ragtag.scaffold.stats 2> /storage/group/ibb3/default/cnat_dcyl_ssid_genomes/resources/ssid/ragtag.scaffold.err\n",
      "Sun Aug 18 13:52:37 2024 --- INFO: Finished running : ragtag_stats.py /storage/group/ibb3/default/cnat_dcyl_ssid_genomes/resources/ssid/ragtag.scaffold.agp /storage/group/ibb3/default/cnat_dcyl_ssid_genomes/resources/ssid/ragtag.scaffold.confidence.txt > /storage/group/ibb3/default/cnat_dcyl_ssid_genomes/resources/ssid/ragtag.scaffold.stats 2> /storage/group/ibb3/default/cnat_dcyl_ssid_genomes/resources/ssid/ragtag.scaffold.err\n",
      "Sun Aug 18 13:52:37 2024 --- INFO: Goodbye\n"
     ]
    }
   ],
   "source": [
    "%%bash\n",
    "source ~/.bashrc\n",
    "conda activate ragtag\n",
    "ragtag.py scaffold \\\n",
    "    ~/scratch/GCA_964030785.1_jaSidSide1.1_genomic.fna \\\n",
    "    ~/scratch/Siderastrea_siderea.scaffolds.fa \\\n",
    "    -t 8 -r -u -o ../resources/ssid"
   ]
  },
  {
   "cell_type": "code",
   "execution_count": 15,
   "id": "cac1b117",
   "metadata": {},
   "outputs": [
    {
     "name": "stderr",
     "output_type": "stream",
     "text": [
      "INFO     Reading target genome assembly: (/storage/home/nsl5160/scratch/Dendrogyra_cylindrus.scaffolds.fa)...\n",
      "\n",
      "INFO     Reading query genome assembly: (../resources/dcyl/ragtag.scaffold.fasta)...\n",
      "\n",
      "INFO     Total component lines: 301\n",
      "INFO     Removed lines: 0\n",
      "INFO     Converted lines: 301\n"
     ]
    }
   ],
   "source": [
    "%%bash\n",
    "source ~/.bashrc\n",
    "conda activate ragtag\n",
    "agp_to_chain.py \\\n",
    "    -t_fa /storage/home/nsl5160/scratch/Dendrogyra_cylindrus.scaffolds.fa \\\n",
    "    -q_fa ../resources/dcyl/ragtag.scaffold.fasta \\\n",
    "    -a ../resources/dcyl/ragtag.scaffold.agp \\\n",
    "    -o ../resources/Dendrogyra_cylindrus.chain\n",
    "cp ../resources/dcyl/ragtag.scaffold.agp \\\n",
    "    ../resources/Dendrogyra_cylindrus.agp"
   ]
  },
  {
   "cell_type": "code",
   "execution_count": 18,
   "id": "46b6c828",
   "metadata": {},
   "outputs": [
    {
     "name": "stderr",
     "output_type": "stream",
     "text": [
      "INFO     Reading target genome assembly: (/storage/home/nsl5160/scratch/Siderastrea_siderea.scaffolds.fa)...\n",
      "\n",
      "INFO     Reading query genome assembly: (../resources/ssid/ragtag.scaffold.fasta)...\n",
      "\n",
      "INFO     Total component lines: 265\n",
      "INFO     Removed lines: 0\n",
      "INFO     Converted lines: 265\n"
     ]
    }
   ],
   "source": [
    "%%bash\n",
    "source ~/.bashrc\n",
    "conda activate ragtag\n",
    "agp_to_chain.py \\\n",
    "    -t_fa /storage/home/nsl5160/scratch/Siderastrea_siderea.scaffolds.fa \\\n",
    "    -q_fa ../resources/ssid/ragtag.scaffold.fasta \\\n",
    "    -a ../resources/ssid/ragtag.scaffold.agp \\\n",
    "    -o ../resources/Siderastrea_siderea.chain\n",
    "cp ../resources/ssid/ragtag.scaffold.agp \\\n",
    "    ../resources/Siderastrea_siderea.agp"
   ]
  }
 ],
 "metadata": {
  "kernelspec": {
   "display_name": "Masters Env",
   "language": "python",
   "name": "masters"
  },
  "language_info": {
   "codemirror_mode": {
    "name": "ipython",
    "version": 3
   },
   "file_extension": ".py",
   "mimetype": "text/x-python",
   "name": "python",
   "nbconvert_exporter": "python",
   "pygments_lexer": "ipython3",
   "version": "3.10.8"
  }
 },
 "nbformat": 4,
 "nbformat_minor": 5
}
